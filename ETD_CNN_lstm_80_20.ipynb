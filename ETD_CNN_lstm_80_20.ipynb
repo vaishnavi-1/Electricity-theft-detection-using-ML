{
  "nbformat": 4,
  "nbformat_minor": 0,
  "metadata": {
    "colab": {
      "provenance": [],
      "authorship_tag": "ABX9TyOZIM5zqmxHoj1u/Ji9pBK+",
      "include_colab_link": true
    },
    "kernelspec": {
      "name": "python3",
      "display_name": "Python 3"
    },
    "language_info": {
      "name": "python"
    },
    "accelerator": "GPU",
    "gpuClass": "standard"
  },
  "cells": [
    {
      "cell_type": "markdown",
      "metadata": {
        "id": "view-in-github",
        "colab_type": "text"
      },
      "source": [
        "<a href=\"https://colab.research.google.com/github/vaishnavi-1/Electricity-theft-detection-using-ML/blob/main/ETD_CNN_lstm_80_20.ipynb\" target=\"_parent\"><img src=\"https://colab.research.google.com/assets/colab-badge.svg\" alt=\"Open In Colab\"/></a>"
      ]
    },
    {
      "cell_type": "code",
      "execution_count": null,
      "metadata": {
        "id": "-Fu3auEQraeO",
        "colab": {
          "base_uri": "https://localhost:8080/"
        },
        "outputId": "49a7a5ff-cf73-4cf4-9615-506da197599e"
      },
      "outputs": [
        {
          "output_type": "stream",
          "name": "stdout",
          "text": [
            "Mounted at /content/drive\n"
          ]
        }
      ],
      "source": [
        "from google.colab import drive\n",
        "drive.mount('/content/drive')"
      ]
    },
    {
      "cell_type": "code",
      "source": [
        "!ln -s /content/drive/My\\ Drive/ /mydrive"
      ],
      "metadata": {
        "id": "O6UP3YBRQd_F"
      },
      "execution_count": null,
      "outputs": []
    },
    {
      "cell_type": "code",
      "source": [
        "!ls"
      ],
      "metadata": {
        "colab": {
          "base_uri": "https://localhost:8080/"
        },
        "id": "fG2RXiEJQokB",
        "outputId": "dce3a838-d90a-4c45-fac5-57310be05007"
      },
      "execution_count": null,
      "outputs": [
        {
          "output_type": "stream",
          "name": "stdout",
          "text": [
            "drive  sample_data\n"
          ]
        }
      ]
    },
    {
      "cell_type": "code",
      "source": [
        "import numpy as np\n",
        "import pandas as pd\n",
        "import matplotlib.pyplot as plt\n",
        "%matplotlib inline"
      ],
      "metadata": {
        "id": "GBN52PyKQqa9"
      },
      "execution_count": null,
      "outputs": []
    },
    {
      "cell_type": "markdown",
      "source": [
        "#Normalised Dataset"
      ],
      "metadata": {
        "id": "r3oUuEhKOzrs"
      }
    },
    {
      "cell_type": "code",
      "source": [
        "\n",
        "df = pd.read_csv('/content/drive/My Drive/Normalised_data_final.csv')"
      ],
      "metadata": {
        "id": "FbOZVkFCQsjk"
      },
      "execution_count": null,
      "outputs": []
    },
    {
      "cell_type": "code",
      "source": [
        "df"
      ],
      "metadata": {
        "colab": {
          "base_uri": "https://localhost:8080/",
          "height": 505
        },
        "id": "zj0i6hSzQ19A",
        "outputId": "f488f982-9c9b-489e-cc64-8f5a7755b673"
      },
      "execution_count": null,
      "outputs": [
        {
          "output_type": "execute_result",
          "data": {
            "text/plain": [
              "       Unnamed: 0         0         1         2         3        4         5  \\\n",
              "0               0  0.000000  0.000000  0.000000  0.000000  0.00000  0.000000   \n",
              "1               1  0.000000  0.000000  0.000000  0.000000  0.00000  0.000000   \n",
              "2               2  0.000000  0.000000  0.000000  0.000000  0.00000  0.000000   \n",
              "3               3  0.000000  0.000000  0.000000  0.000000  0.00000  0.000000   \n",
              "4               4  0.185469  0.218726  0.243668  0.292914  0.22768  0.271809   \n",
              "...           ...       ...       ...       ...       ...      ...       ...   \n",
              "33836       33836  0.000000  0.000000  0.000000  0.000000  0.00000  0.000000   \n",
              "33837       33837  0.000000  0.000000  0.000000  0.000000  0.00000  0.000000   \n",
              "33838       33838  0.000000  0.000000  0.000000  0.000000  0.00000  0.000000   \n",
              "33839       33839  0.000000  0.000000  0.000000  0.000000  0.00000  0.000000   \n",
              "33840       33840  0.000000  0.000000  0.000000  0.000000  0.00000  0.000000   \n",
              "\n",
              "              6         7         8  ...      1025      1026      1027  \\\n",
              "0      0.000000  0.000000  0.000000  ...  0.409472  0.695609  0.312449   \n",
              "1      0.000000  0.000000  0.000000  ...  0.000000  0.000000  0.000000   \n",
              "2      0.000000  0.000000  0.000000  ...  0.000000  0.000000  0.000000   \n",
              "3      0.000000  0.000000  0.000000  ...  0.413151  0.487179  0.768817   \n",
              "4      0.246866  0.225761  0.218086  ...  0.663213  0.979790  0.864032   \n",
              "...         ...       ...       ...  ...       ...       ...       ...   \n",
              "33836  0.000000  0.000000  0.000000  ...  0.491644  0.406141  0.627672   \n",
              "33837  0.000000  0.000000  0.000000  ...  0.892625  0.563600  0.467590   \n",
              "33838  0.000000  0.000000  0.000000  ...  0.853460  0.593995  0.673956   \n",
              "33839  0.000000  0.000000  0.000000  ...  0.000000  0.000000  0.000000   \n",
              "33840  0.000000  0.000000  0.000000  ...  0.531096  0.512340  0.537019   \n",
              "\n",
              "           1028      1029      1030      1031      1032      1033  OutPut  \n",
              "0      1.000000  0.742065  1.000000  0.770844  0.733432  0.613386       1  \n",
              "1      0.000000  0.000000  0.000000  0.000000  0.000000  0.000000       1  \n",
              "2      0.000000  0.000000  0.000000  0.000000  0.000000  0.000000       1  \n",
              "3      1.000000  0.767990  0.603391  0.530190  0.801075  0.658395       1  \n",
              "4      0.782169  0.938859  1.000000  1.000000  1.000000  1.000000       1  \n",
              "...         ...       ...       ...       ...       ...       ...     ...  \n",
              "33836  0.542169  0.524679  0.551885  0.596580  0.460552  0.472211       0  \n",
              "33837  0.687114  0.442161  0.400125  0.381961  0.361202  0.408947       0  \n",
              "33838  0.742493  0.553198  0.515666  0.657637  0.574413  0.793081       0  \n",
              "33839  0.000000  0.000000  0.000000  0.000000  0.000000  0.000000       0  \n",
              "33840  0.580454  0.500494  0.635735  0.492596  0.552813  0.615005       0  \n",
              "\n",
              "[33841 rows x 1036 columns]"
            ],
            "text/html": [
              "\n",
              "  <div id=\"df-d07b5f31-c2ed-4923-8e75-5ec01489a838\">\n",
              "    <div class=\"colab-df-container\">\n",
              "      <div>\n",
              "<style scoped>\n",
              "    .dataframe tbody tr th:only-of-type {\n",
              "        vertical-align: middle;\n",
              "    }\n",
              "\n",
              "    .dataframe tbody tr th {\n",
              "        vertical-align: top;\n",
              "    }\n",
              "\n",
              "    .dataframe thead th {\n",
              "        text-align: right;\n",
              "    }\n",
              "</style>\n",
              "<table border=\"1\" class=\"dataframe\">\n",
              "  <thead>\n",
              "    <tr style=\"text-align: right;\">\n",
              "      <th></th>\n",
              "      <th>Unnamed: 0</th>\n",
              "      <th>0</th>\n",
              "      <th>1</th>\n",
              "      <th>2</th>\n",
              "      <th>3</th>\n",
              "      <th>4</th>\n",
              "      <th>5</th>\n",
              "      <th>6</th>\n",
              "      <th>7</th>\n",
              "      <th>8</th>\n",
              "      <th>...</th>\n",
              "      <th>1025</th>\n",
              "      <th>1026</th>\n",
              "      <th>1027</th>\n",
              "      <th>1028</th>\n",
              "      <th>1029</th>\n",
              "      <th>1030</th>\n",
              "      <th>1031</th>\n",
              "      <th>1032</th>\n",
              "      <th>1033</th>\n",
              "      <th>OutPut</th>\n",
              "    </tr>\n",
              "  </thead>\n",
              "  <tbody>\n",
              "    <tr>\n",
              "      <th>0</th>\n",
              "      <td>0</td>\n",
              "      <td>0.000000</td>\n",
              "      <td>0.000000</td>\n",
              "      <td>0.000000</td>\n",
              "      <td>0.000000</td>\n",
              "      <td>0.00000</td>\n",
              "      <td>0.000000</td>\n",
              "      <td>0.000000</td>\n",
              "      <td>0.000000</td>\n",
              "      <td>0.000000</td>\n",
              "      <td>...</td>\n",
              "      <td>0.409472</td>\n",
              "      <td>0.695609</td>\n",
              "      <td>0.312449</td>\n",
              "      <td>1.000000</td>\n",
              "      <td>0.742065</td>\n",
              "      <td>1.000000</td>\n",
              "      <td>0.770844</td>\n",
              "      <td>0.733432</td>\n",
              "      <td>0.613386</td>\n",
              "      <td>1</td>\n",
              "    </tr>\n",
              "    <tr>\n",
              "      <th>1</th>\n",
              "      <td>1</td>\n",
              "      <td>0.000000</td>\n",
              "      <td>0.000000</td>\n",
              "      <td>0.000000</td>\n",
              "      <td>0.000000</td>\n",
              "      <td>0.00000</td>\n",
              "      <td>0.000000</td>\n",
              "      <td>0.000000</td>\n",
              "      <td>0.000000</td>\n",
              "      <td>0.000000</td>\n",
              "      <td>...</td>\n",
              "      <td>0.000000</td>\n",
              "      <td>0.000000</td>\n",
              "      <td>0.000000</td>\n",
              "      <td>0.000000</td>\n",
              "      <td>0.000000</td>\n",
              "      <td>0.000000</td>\n",
              "      <td>0.000000</td>\n",
              "      <td>0.000000</td>\n",
              "      <td>0.000000</td>\n",
              "      <td>1</td>\n",
              "    </tr>\n",
              "    <tr>\n",
              "      <th>2</th>\n",
              "      <td>2</td>\n",
              "      <td>0.000000</td>\n",
              "      <td>0.000000</td>\n",
              "      <td>0.000000</td>\n",
              "      <td>0.000000</td>\n",
              "      <td>0.00000</td>\n",
              "      <td>0.000000</td>\n",
              "      <td>0.000000</td>\n",
              "      <td>0.000000</td>\n",
              "      <td>0.000000</td>\n",
              "      <td>...</td>\n",
              "      <td>0.000000</td>\n",
              "      <td>0.000000</td>\n",
              "      <td>0.000000</td>\n",
              "      <td>0.000000</td>\n",
              "      <td>0.000000</td>\n",
              "      <td>0.000000</td>\n",
              "      <td>0.000000</td>\n",
              "      <td>0.000000</td>\n",
              "      <td>0.000000</td>\n",
              "      <td>1</td>\n",
              "    </tr>\n",
              "    <tr>\n",
              "      <th>3</th>\n",
              "      <td>3</td>\n",
              "      <td>0.000000</td>\n",
              "      <td>0.000000</td>\n",
              "      <td>0.000000</td>\n",
              "      <td>0.000000</td>\n",
              "      <td>0.00000</td>\n",
              "      <td>0.000000</td>\n",
              "      <td>0.000000</td>\n",
              "      <td>0.000000</td>\n",
              "      <td>0.000000</td>\n",
              "      <td>...</td>\n",
              "      <td>0.413151</td>\n",
              "      <td>0.487179</td>\n",
              "      <td>0.768817</td>\n",
              "      <td>1.000000</td>\n",
              "      <td>0.767990</td>\n",
              "      <td>0.603391</td>\n",
              "      <td>0.530190</td>\n",
              "      <td>0.801075</td>\n",
              "      <td>0.658395</td>\n",
              "      <td>1</td>\n",
              "    </tr>\n",
              "    <tr>\n",
              "      <th>4</th>\n",
              "      <td>4</td>\n",
              "      <td>0.185469</td>\n",
              "      <td>0.218726</td>\n",
              "      <td>0.243668</td>\n",
              "      <td>0.292914</td>\n",
              "      <td>0.22768</td>\n",
              "      <td>0.271809</td>\n",
              "      <td>0.246866</td>\n",
              "      <td>0.225761</td>\n",
              "      <td>0.218086</td>\n",
              "      <td>...</td>\n",
              "      <td>0.663213</td>\n",
              "      <td>0.979790</td>\n",
              "      <td>0.864032</td>\n",
              "      <td>0.782169</td>\n",
              "      <td>0.938859</td>\n",
              "      <td>1.000000</td>\n",
              "      <td>1.000000</td>\n",
              "      <td>1.000000</td>\n",
              "      <td>1.000000</td>\n",
              "      <td>1</td>\n",
              "    </tr>\n",
              "    <tr>\n",
              "      <th>...</th>\n",
              "      <td>...</td>\n",
              "      <td>...</td>\n",
              "      <td>...</td>\n",
              "      <td>...</td>\n",
              "      <td>...</td>\n",
              "      <td>...</td>\n",
              "      <td>...</td>\n",
              "      <td>...</td>\n",
              "      <td>...</td>\n",
              "      <td>...</td>\n",
              "      <td>...</td>\n",
              "      <td>...</td>\n",
              "      <td>...</td>\n",
              "      <td>...</td>\n",
              "      <td>...</td>\n",
              "      <td>...</td>\n",
              "      <td>...</td>\n",
              "      <td>...</td>\n",
              "      <td>...</td>\n",
              "      <td>...</td>\n",
              "      <td>...</td>\n",
              "    </tr>\n",
              "    <tr>\n",
              "      <th>33836</th>\n",
              "      <td>33836</td>\n",
              "      <td>0.000000</td>\n",
              "      <td>0.000000</td>\n",
              "      <td>0.000000</td>\n",
              "      <td>0.000000</td>\n",
              "      <td>0.00000</td>\n",
              "      <td>0.000000</td>\n",
              "      <td>0.000000</td>\n",
              "      <td>0.000000</td>\n",
              "      <td>0.000000</td>\n",
              "      <td>...</td>\n",
              "      <td>0.491644</td>\n",
              "      <td>0.406141</td>\n",
              "      <td>0.627672</td>\n",
              "      <td>0.542169</td>\n",
              "      <td>0.524679</td>\n",
              "      <td>0.551885</td>\n",
              "      <td>0.596580</td>\n",
              "      <td>0.460552</td>\n",
              "      <td>0.472211</td>\n",
              "      <td>0</td>\n",
              "    </tr>\n",
              "    <tr>\n",
              "      <th>33837</th>\n",
              "      <td>33837</td>\n",
              "      <td>0.000000</td>\n",
              "      <td>0.000000</td>\n",
              "      <td>0.000000</td>\n",
              "      <td>0.000000</td>\n",
              "      <td>0.00000</td>\n",
              "      <td>0.000000</td>\n",
              "      <td>0.000000</td>\n",
              "      <td>0.000000</td>\n",
              "      <td>0.000000</td>\n",
              "      <td>...</td>\n",
              "      <td>0.892625</td>\n",
              "      <td>0.563600</td>\n",
              "      <td>0.467590</td>\n",
              "      <td>0.687114</td>\n",
              "      <td>0.442161</td>\n",
              "      <td>0.400125</td>\n",
              "      <td>0.381961</td>\n",
              "      <td>0.361202</td>\n",
              "      <td>0.408947</td>\n",
              "      <td>0</td>\n",
              "    </tr>\n",
              "    <tr>\n",
              "      <th>33838</th>\n",
              "      <td>33838</td>\n",
              "      <td>0.000000</td>\n",
              "      <td>0.000000</td>\n",
              "      <td>0.000000</td>\n",
              "      <td>0.000000</td>\n",
              "      <td>0.00000</td>\n",
              "      <td>0.000000</td>\n",
              "      <td>0.000000</td>\n",
              "      <td>0.000000</td>\n",
              "      <td>0.000000</td>\n",
              "      <td>...</td>\n",
              "      <td>0.853460</td>\n",
              "      <td>0.593995</td>\n",
              "      <td>0.673956</td>\n",
              "      <td>0.742493</td>\n",
              "      <td>0.553198</td>\n",
              "      <td>0.515666</td>\n",
              "      <td>0.657637</td>\n",
              "      <td>0.574413</td>\n",
              "      <td>0.793081</td>\n",
              "      <td>0</td>\n",
              "    </tr>\n",
              "    <tr>\n",
              "      <th>33839</th>\n",
              "      <td>33839</td>\n",
              "      <td>0.000000</td>\n",
              "      <td>0.000000</td>\n",
              "      <td>0.000000</td>\n",
              "      <td>0.000000</td>\n",
              "      <td>0.00000</td>\n",
              "      <td>0.000000</td>\n",
              "      <td>0.000000</td>\n",
              "      <td>0.000000</td>\n",
              "      <td>0.000000</td>\n",
              "      <td>...</td>\n",
              "      <td>0.000000</td>\n",
              "      <td>0.000000</td>\n",
              "      <td>0.000000</td>\n",
              "      <td>0.000000</td>\n",
              "      <td>0.000000</td>\n",
              "      <td>0.000000</td>\n",
              "      <td>0.000000</td>\n",
              "      <td>0.000000</td>\n",
              "      <td>0.000000</td>\n",
              "      <td>0</td>\n",
              "    </tr>\n",
              "    <tr>\n",
              "      <th>33840</th>\n",
              "      <td>33840</td>\n",
              "      <td>0.000000</td>\n",
              "      <td>0.000000</td>\n",
              "      <td>0.000000</td>\n",
              "      <td>0.000000</td>\n",
              "      <td>0.00000</td>\n",
              "      <td>0.000000</td>\n",
              "      <td>0.000000</td>\n",
              "      <td>0.000000</td>\n",
              "      <td>0.000000</td>\n",
              "      <td>...</td>\n",
              "      <td>0.531096</td>\n",
              "      <td>0.512340</td>\n",
              "      <td>0.537019</td>\n",
              "      <td>0.580454</td>\n",
              "      <td>0.500494</td>\n",
              "      <td>0.635735</td>\n",
              "      <td>0.492596</td>\n",
              "      <td>0.552813</td>\n",
              "      <td>0.615005</td>\n",
              "      <td>0</td>\n",
              "    </tr>\n",
              "  </tbody>\n",
              "</table>\n",
              "<p>33841 rows × 1036 columns</p>\n",
              "</div>\n",
              "      <button class=\"colab-df-convert\" onclick=\"convertToInteractive('df-d07b5f31-c2ed-4923-8e75-5ec01489a838')\"\n",
              "              title=\"Convert this dataframe to an interactive table.\"\n",
              "              style=\"display:none;\">\n",
              "        \n",
              "  <svg xmlns=\"http://www.w3.org/2000/svg\" height=\"24px\"viewBox=\"0 0 24 24\"\n",
              "       width=\"24px\">\n",
              "    <path d=\"M0 0h24v24H0V0z\" fill=\"none\"/>\n",
              "    <path d=\"M18.56 5.44l.94 2.06.94-2.06 2.06-.94-2.06-.94-.94-2.06-.94 2.06-2.06.94zm-11 1L8.5 8.5l.94-2.06 2.06-.94-2.06-.94L8.5 2.5l-.94 2.06-2.06.94zm10 10l.94 2.06.94-2.06 2.06-.94-2.06-.94-.94-2.06-.94 2.06-2.06.94z\"/><path d=\"M17.41 7.96l-1.37-1.37c-.4-.4-.92-.59-1.43-.59-.52 0-1.04.2-1.43.59L10.3 9.45l-7.72 7.72c-.78.78-.78 2.05 0 2.83L4 21.41c.39.39.9.59 1.41.59.51 0 1.02-.2 1.41-.59l7.78-7.78 2.81-2.81c.8-.78.8-2.07 0-2.86zM5.41 20L4 18.59l7.72-7.72 1.47 1.35L5.41 20z\"/>\n",
              "  </svg>\n",
              "      </button>\n",
              "      \n",
              "  <style>\n",
              "    .colab-df-container {\n",
              "      display:flex;\n",
              "      flex-wrap:wrap;\n",
              "      gap: 12px;\n",
              "    }\n",
              "\n",
              "    .colab-df-convert {\n",
              "      background-color: #E8F0FE;\n",
              "      border: none;\n",
              "      border-radius: 50%;\n",
              "      cursor: pointer;\n",
              "      display: none;\n",
              "      fill: #1967D2;\n",
              "      height: 32px;\n",
              "      padding: 0 0 0 0;\n",
              "      width: 32px;\n",
              "    }\n",
              "\n",
              "    .colab-df-convert:hover {\n",
              "      background-color: #E2EBFA;\n",
              "      box-shadow: 0px 1px 2px rgba(60, 64, 67, 0.3), 0px 1px 3px 1px rgba(60, 64, 67, 0.15);\n",
              "      fill: #174EA6;\n",
              "    }\n",
              "\n",
              "    [theme=dark] .colab-df-convert {\n",
              "      background-color: #3B4455;\n",
              "      fill: #D2E3FC;\n",
              "    }\n",
              "\n",
              "    [theme=dark] .colab-df-convert:hover {\n",
              "      background-color: #434B5C;\n",
              "      box-shadow: 0px 1px 3px 1px rgba(0, 0, 0, 0.15);\n",
              "      filter: drop-shadow(0px 1px 2px rgba(0, 0, 0, 0.3));\n",
              "      fill: #FFFFFF;\n",
              "    }\n",
              "  </style>\n",
              "\n",
              "      <script>\n",
              "        const buttonEl =\n",
              "          document.querySelector('#df-d07b5f31-c2ed-4923-8e75-5ec01489a838 button.colab-df-convert');\n",
              "        buttonEl.style.display =\n",
              "          google.colab.kernel.accessAllowed ? 'block' : 'none';\n",
              "\n",
              "        async function convertToInteractive(key) {\n",
              "          const element = document.querySelector('#df-d07b5f31-c2ed-4923-8e75-5ec01489a838');\n",
              "          const dataTable =\n",
              "            await google.colab.kernel.invokeFunction('convertToInteractive',\n",
              "                                                     [key], {});\n",
              "          if (!dataTable) return;\n",
              "\n",
              "          const docLinkHtml = 'Like what you see? Visit the ' +\n",
              "            '<a target=\"_blank\" href=https://colab.research.google.com/notebooks/data_table.ipynb>data table notebook</a>'\n",
              "            + ' to learn more about interactive tables.';\n",
              "          element.innerHTML = '';\n",
              "          dataTable['output_type'] = 'display_data';\n",
              "          await google.colab.output.renderOutput(dataTable, element);\n",
              "          const docLink = document.createElement('div');\n",
              "          docLink.innerHTML = docLinkHtml;\n",
              "          element.appendChild(docLink);\n",
              "        }\n",
              "      </script>\n",
              "    </div>\n",
              "  </div>\n",
              "  "
            ]
          },
          "metadata": {},
          "execution_count": 6
        }
      ]
    },
    {
      "cell_type": "code",
      "source": [
        "y = df['OutPut']\n",
        "count =0\n",
        "for i in y:\n",
        "  if(i==1):\n",
        "    count = count+1\n",
        "print(\"No of 1:\",count)\n",
        "print(\"Total No of Customers:\",len(y))"
      ],
      "metadata": {
        "colab": {
          "base_uri": "https://localhost:8080/"
        },
        "id": "6v3foUehQ3oY",
        "outputId": "9106c0d1-870f-41f9-ea0d-ad85d3b09203"
      },
      "execution_count": null,
      "outputs": [
        {
          "output_type": "stream",
          "name": "stdout",
          "text": [
            "No of 1: 3615\n",
            "Total No of Customers: 33841\n"
          ]
        }
      ]
    },
    {
      "cell_type": "code",
      "source": [
        "data = df[100:110]\n",
        "data.drop(['Unnamed: 0'],axis =1,inplace=True)\n",
        "print(data)"
      ],
      "metadata": {
        "colab": {
          "base_uri": "https://localhost:8080/"
        },
        "id": "wzEksnIaQ6DG",
        "outputId": "925711a6-57ff-46b6-a6ec-704c502d3a2d"
      },
      "execution_count": null,
      "outputs": [
        {
          "output_type": "stream",
          "name": "stdout",
          "text": [
            "            0         1         2         3         4         5         6  \\\n",
            "100  0.000000  0.000000  0.000000  0.000000  0.000000  0.000000  0.000000   \n",
            "101  0.000000  0.000000  0.000000  0.000000  0.000000  0.000000  0.000000   \n",
            "102  0.398063  0.488688  0.512008  0.575882  0.394710  0.553421  0.539382   \n",
            "103  0.000000  0.000000  0.000000  0.000000  0.000000  0.000000  0.000000   \n",
            "104  0.000000  0.000000  0.000000  0.000000  0.000000  0.000000  0.000000   \n",
            "105  0.001051  0.777233  0.632931  0.585619  0.646862  0.670781  0.742538   \n",
            "106  0.263898  0.205115  0.194484  0.157797  0.164468  0.214913  0.164051   \n",
            "107  0.000000  0.000000  0.000000  0.000000  0.000000  0.000000  0.000000   \n",
            "108  0.000000  0.315956  0.205966  0.363182  0.310777  0.298894  0.322050   \n",
            "109  0.126024  0.094518  0.088133  0.101735  0.092852  0.101874  0.112006   \n",
            "\n",
            "            7         8         9  ...      1025      1026      1027  \\\n",
            "100  0.000000  0.000000  0.000000  ...  0.449084  0.405527  0.407029   \n",
            "101  0.000000  0.000000  0.000000  ...  0.710000  0.983333  1.000000   \n",
            "102  0.600761  0.507406  0.526982  ...  0.259396  0.094446  0.224145   \n",
            "103  0.000000  0.000000  0.000000  ...  0.468510  0.534645  0.495547   \n",
            "104  0.000000  0.000000  0.000000  ...  0.452522  0.366799  0.616551   \n",
            "105  0.654222  0.706002  0.541461  ...  0.741224  0.521222  0.708894   \n",
            "106  0.155504  0.210744  0.175098  ...  0.496321  0.593667  0.425656   \n",
            "107  0.000000  0.000000  0.000000  ...  0.147981  0.217618  0.164519   \n",
            "108  0.387252  0.319308  0.233692  ...  0.256543  0.525883  0.266902   \n",
            "109  0.102706  0.095073  0.106176  ...  0.522831  0.731992  0.534490   \n",
            "\n",
            "         1028      1029      1030      1031      1032      1033  OutPut  \n",
            "100  0.485131  0.399519  1.000000  0.398017  0.396515  0.426555       1  \n",
            "101  1.000000  0.845833  1.000000  0.901667  1.000000  0.741667       1  \n",
            "102  0.096708  0.148806  0.155513  0.153485  0.145140  0.157229       1  \n",
            "103  0.525897  0.469968  0.488125  0.470630  0.462546  0.437762       1  \n",
            "104  0.386581  0.580284  0.473953  0.477250  0.452522  0.770689       1  \n",
            "105  0.612429  0.558809  0.645022  0.706528  0.699694  0.698643       1  \n",
            "106  0.607633  0.854647  0.691431  0.741250  0.716236  0.597628       1  \n",
            "107  0.269847  0.250696  0.267235  0.288997  0.258531  0.259401       1  \n",
            "108  0.592304  0.553914  0.732763  0.371104  0.316870  0.415588       1  \n",
            "109  0.831228  0.803331  0.756280  0.783345  0.736711  0.566829       1  \n",
            "\n",
            "[10 rows x 1035 columns]\n"
          ]
        },
        {
          "output_type": "stream",
          "name": "stderr",
          "text": [
            "<ipython-input-8-ed0a64eb66c6>:2: SettingWithCopyWarning: \n",
            "A value is trying to be set on a copy of a slice from a DataFrame\n",
            "\n",
            "See the caveats in the documentation: https://pandas.pydata.org/pandas-docs/stable/user_guide/indexing.html#returning-a-view-versus-a-copy\n",
            "  data.drop(['Unnamed: 0'],axis =1,inplace=True)\n"
          ]
        }
      ]
    },
    {
      "cell_type": "code",
      "source": [
        "data.to_csv(\"data_final.csv\")"
      ],
      "metadata": {
        "id": "pC9oIOt-Wmri"
      },
      "execution_count": null,
      "outputs": []
    },
    {
      "cell_type": "code",
      "source": [
        "\n",
        "YY = data['OutPut']\n",
        "data.drop(['OutPut'],axis=1,inplace=True)"
      ],
      "metadata": {
        "colab": {
          "base_uri": "https://localhost:8080/"
        },
        "id": "cjlxq35TWuw1",
        "outputId": "ea43d8bf-a81b-42aa-e7a9-4d1827dc482f"
      },
      "execution_count": null,
      "outputs": [
        {
          "output_type": "stream",
          "name": "stderr",
          "text": [
            "<ipython-input-10-f21e9de8bcf2>:2: SettingWithCopyWarning: \n",
            "A value is trying to be set on a copy of a slice from a DataFrame\n",
            "\n",
            "See the caveats in the documentation: https://pandas.pydata.org/pandas-docs/stable/user_guide/indexing.html#returning-a-view-versus-a-copy\n",
            "  data.drop(['OutPut'],axis=1,inplace=True)\n"
          ]
        }
      ]
    },
    {
      "cell_type": "code",
      "source": [
        "XX = np.array(data)\n",
        "print(XX.shape)\n",
        "X_TEST = XX.reshape(XX.shape[0],94,11)\n",
        "print(X_TEST.shape)"
      ],
      "metadata": {
        "colab": {
          "base_uri": "https://localhost:8080/"
        },
        "id": "R9qHaYA8XDjT",
        "outputId": "d35e1f16-9332-458d-ff02-bc490fc0a661"
      },
      "execution_count": null,
      "outputs": [
        {
          "output_type": "stream",
          "name": "stdout",
          "text": [
            "(10, 1034)\n",
            "(10, 94, 11)\n"
          ]
        }
      ]
    },
    {
      "cell_type": "code",
      "source": [
        "df.drop(['Unnamed: 0'],axis =1,inplace=True)"
      ],
      "metadata": {
        "id": "DXAXFTL2XL9V"
      },
      "execution_count": null,
      "outputs": []
    },
    {
      "cell_type": "code",
      "source": [
        "Y = df['OutPut']\n",
        "df.drop(['OutPut'],axis=1,inplace=True)"
      ],
      "metadata": {
        "id": "rw0bWPu2Xnvl"
      },
      "execution_count": null,
      "outputs": []
    },
    {
      "cell_type": "code",
      "source": [
        "Y"
      ],
      "metadata": {
        "colab": {
          "base_uri": "https://localhost:8080/"
        },
        "id": "muRXd-J6Xq6e",
        "outputId": "94d3d5db-81c2-49a6-fea1-57251a4bc4cb"
      },
      "execution_count": null,
      "outputs": [
        {
          "output_type": "execute_result",
          "data": {
            "text/plain": [
              "0        1\n",
              "1        1\n",
              "2        1\n",
              "3        1\n",
              "4        1\n",
              "        ..\n",
              "33836    0\n",
              "33837    0\n",
              "33838    0\n",
              "33839    0\n",
              "33840    0\n",
              "Name: OutPut, Length: 33841, dtype: int64"
            ]
          },
          "metadata": {},
          "execution_count": 14
        }
      ]
    },
    {
      "cell_type": "code",
      "source": [
        "df"
      ],
      "metadata": {
        "colab": {
          "base_uri": "https://localhost:8080/",
          "height": 487
        },
        "id": "rgFBZ1J6XreE",
        "outputId": "7377aeba-a212-4877-bf67-06c861eba0e8"
      },
      "execution_count": null,
      "outputs": [
        {
          "output_type": "execute_result",
          "data": {
            "text/plain": [
              "              0         1         2         3        4         5         6  \\\n",
              "0      0.000000  0.000000  0.000000  0.000000  0.00000  0.000000  0.000000   \n",
              "1      0.000000  0.000000  0.000000  0.000000  0.00000  0.000000  0.000000   \n",
              "2      0.000000  0.000000  0.000000  0.000000  0.00000  0.000000  0.000000   \n",
              "3      0.000000  0.000000  0.000000  0.000000  0.00000  0.000000  0.000000   \n",
              "4      0.185469  0.218726  0.243668  0.292914  0.22768  0.271809  0.246866   \n",
              "...         ...       ...       ...       ...      ...       ...       ...   \n",
              "33836  0.000000  0.000000  0.000000  0.000000  0.00000  0.000000  0.000000   \n",
              "33837  0.000000  0.000000  0.000000  0.000000  0.00000  0.000000  0.000000   \n",
              "33838  0.000000  0.000000  0.000000  0.000000  0.00000  0.000000  0.000000   \n",
              "33839  0.000000  0.000000  0.000000  0.000000  0.00000  0.000000  0.000000   \n",
              "33840  0.000000  0.000000  0.000000  0.000000  0.00000  0.000000  0.000000   \n",
              "\n",
              "              7         8         9  ...      1024      1025      1026  \\\n",
              "0      0.000000  0.000000  0.000000  ...  0.416050  0.409472  0.695609   \n",
              "1      0.000000  0.000000  0.000000  ...  0.000000  0.000000  0.000000   \n",
              "2      0.000000  0.000000  0.000000  ...  0.000000  0.000000  0.000000   \n",
              "3      0.000000  0.000000  0.000000  ...  0.268817  0.413151  0.487179   \n",
              "4      0.225761  0.218086  0.054362  ...  1.000000  0.663213  0.979790   \n",
              "...         ...       ...       ...  ...       ...       ...       ...   \n",
              "33836  0.000000  0.000000  0.000000  ...  0.452779  0.491644  0.406141   \n",
              "33837  0.000000  0.000000  0.000000  ...  0.491982  0.892625  0.563600   \n",
              "33838  0.000000  0.000000  0.000000  ...  0.912206  0.853460  0.593995   \n",
              "33839  0.000000  0.000000  0.000000  ...  0.000000  0.000000  0.000000   \n",
              "33840  0.000000  0.000000  0.000000  ...  0.615005  0.531096  0.512340   \n",
              "\n",
              "           1027      1028      1029      1030      1031      1032      1033  \n",
              "0      0.312449  1.000000  0.742065  1.000000  0.770844  0.733432  0.613386  \n",
              "1      0.000000  0.000000  0.000000  0.000000  0.000000  0.000000  0.000000  \n",
              "2      0.000000  0.000000  0.000000  0.000000  0.000000  0.000000  0.000000  \n",
              "3      0.768817  1.000000  0.767990  0.603391  0.530190  0.801075  0.658395  \n",
              "4      0.864032  0.782169  0.938859  1.000000  1.000000  1.000000  1.000000  \n",
              "...         ...       ...       ...       ...       ...       ...       ...  \n",
              "33836  0.627672  0.542169  0.524679  0.551885  0.596580  0.460552  0.472211  \n",
              "33837  0.467590  0.687114  0.442161  0.400125  0.381961  0.361202  0.408947  \n",
              "33838  0.673956  0.742493  0.553198  0.515666  0.657637  0.574413  0.793081  \n",
              "33839  0.000000  0.000000  0.000000  0.000000  0.000000  0.000000  0.000000  \n",
              "33840  0.537019  0.580454  0.500494  0.635735  0.492596  0.552813  0.615005  \n",
              "\n",
              "[33841 rows x 1034 columns]"
            ],
            "text/html": [
              "\n",
              "  <div id=\"df-fe263405-2cc4-4974-93f0-716fec2dbeb3\">\n",
              "    <div class=\"colab-df-container\">\n",
              "      <div>\n",
              "<style scoped>\n",
              "    .dataframe tbody tr th:only-of-type {\n",
              "        vertical-align: middle;\n",
              "    }\n",
              "\n",
              "    .dataframe tbody tr th {\n",
              "        vertical-align: top;\n",
              "    }\n",
              "\n",
              "    .dataframe thead th {\n",
              "        text-align: right;\n",
              "    }\n",
              "</style>\n",
              "<table border=\"1\" class=\"dataframe\">\n",
              "  <thead>\n",
              "    <tr style=\"text-align: right;\">\n",
              "      <th></th>\n",
              "      <th>0</th>\n",
              "      <th>1</th>\n",
              "      <th>2</th>\n",
              "      <th>3</th>\n",
              "      <th>4</th>\n",
              "      <th>5</th>\n",
              "      <th>6</th>\n",
              "      <th>7</th>\n",
              "      <th>8</th>\n",
              "      <th>9</th>\n",
              "      <th>...</th>\n",
              "      <th>1024</th>\n",
              "      <th>1025</th>\n",
              "      <th>1026</th>\n",
              "      <th>1027</th>\n",
              "      <th>1028</th>\n",
              "      <th>1029</th>\n",
              "      <th>1030</th>\n",
              "      <th>1031</th>\n",
              "      <th>1032</th>\n",
              "      <th>1033</th>\n",
              "    </tr>\n",
              "  </thead>\n",
              "  <tbody>\n",
              "    <tr>\n",
              "      <th>0</th>\n",
              "      <td>0.000000</td>\n",
              "      <td>0.000000</td>\n",
              "      <td>0.000000</td>\n",
              "      <td>0.000000</td>\n",
              "      <td>0.00000</td>\n",
              "      <td>0.000000</td>\n",
              "      <td>0.000000</td>\n",
              "      <td>0.000000</td>\n",
              "      <td>0.000000</td>\n",
              "      <td>0.000000</td>\n",
              "      <td>...</td>\n",
              "      <td>0.416050</td>\n",
              "      <td>0.409472</td>\n",
              "      <td>0.695609</td>\n",
              "      <td>0.312449</td>\n",
              "      <td>1.000000</td>\n",
              "      <td>0.742065</td>\n",
              "      <td>1.000000</td>\n",
              "      <td>0.770844</td>\n",
              "      <td>0.733432</td>\n",
              "      <td>0.613386</td>\n",
              "    </tr>\n",
              "    <tr>\n",
              "      <th>1</th>\n",
              "      <td>0.000000</td>\n",
              "      <td>0.000000</td>\n",
              "      <td>0.000000</td>\n",
              "      <td>0.000000</td>\n",
              "      <td>0.00000</td>\n",
              "      <td>0.000000</td>\n",
              "      <td>0.000000</td>\n",
              "      <td>0.000000</td>\n",
              "      <td>0.000000</td>\n",
              "      <td>0.000000</td>\n",
              "      <td>...</td>\n",
              "      <td>0.000000</td>\n",
              "      <td>0.000000</td>\n",
              "      <td>0.000000</td>\n",
              "      <td>0.000000</td>\n",
              "      <td>0.000000</td>\n",
              "      <td>0.000000</td>\n",
              "      <td>0.000000</td>\n",
              "      <td>0.000000</td>\n",
              "      <td>0.000000</td>\n",
              "      <td>0.000000</td>\n",
              "    </tr>\n",
              "    <tr>\n",
              "      <th>2</th>\n",
              "      <td>0.000000</td>\n",
              "      <td>0.000000</td>\n",
              "      <td>0.000000</td>\n",
              "      <td>0.000000</td>\n",
              "      <td>0.00000</td>\n",
              "      <td>0.000000</td>\n",
              "      <td>0.000000</td>\n",
              "      <td>0.000000</td>\n",
              "      <td>0.000000</td>\n",
              "      <td>0.000000</td>\n",
              "      <td>...</td>\n",
              "      <td>0.000000</td>\n",
              "      <td>0.000000</td>\n",
              "      <td>0.000000</td>\n",
              "      <td>0.000000</td>\n",
              "      <td>0.000000</td>\n",
              "      <td>0.000000</td>\n",
              "      <td>0.000000</td>\n",
              "      <td>0.000000</td>\n",
              "      <td>0.000000</td>\n",
              "      <td>0.000000</td>\n",
              "    </tr>\n",
              "    <tr>\n",
              "      <th>3</th>\n",
              "      <td>0.000000</td>\n",
              "      <td>0.000000</td>\n",
              "      <td>0.000000</td>\n",
              "      <td>0.000000</td>\n",
              "      <td>0.00000</td>\n",
              "      <td>0.000000</td>\n",
              "      <td>0.000000</td>\n",
              "      <td>0.000000</td>\n",
              "      <td>0.000000</td>\n",
              "      <td>0.000000</td>\n",
              "      <td>...</td>\n",
              "      <td>0.268817</td>\n",
              "      <td>0.413151</td>\n",
              "      <td>0.487179</td>\n",
              "      <td>0.768817</td>\n",
              "      <td>1.000000</td>\n",
              "      <td>0.767990</td>\n",
              "      <td>0.603391</td>\n",
              "      <td>0.530190</td>\n",
              "      <td>0.801075</td>\n",
              "      <td>0.658395</td>\n",
              "    </tr>\n",
              "    <tr>\n",
              "      <th>4</th>\n",
              "      <td>0.185469</td>\n",
              "      <td>0.218726</td>\n",
              "      <td>0.243668</td>\n",
              "      <td>0.292914</td>\n",
              "      <td>0.22768</td>\n",
              "      <td>0.271809</td>\n",
              "      <td>0.246866</td>\n",
              "      <td>0.225761</td>\n",
              "      <td>0.218086</td>\n",
              "      <td>0.054362</td>\n",
              "      <td>...</td>\n",
              "      <td>1.000000</td>\n",
              "      <td>0.663213</td>\n",
              "      <td>0.979790</td>\n",
              "      <td>0.864032</td>\n",
              "      <td>0.782169</td>\n",
              "      <td>0.938859</td>\n",
              "      <td>1.000000</td>\n",
              "      <td>1.000000</td>\n",
              "      <td>1.000000</td>\n",
              "      <td>1.000000</td>\n",
              "    </tr>\n",
              "    <tr>\n",
              "      <th>...</th>\n",
              "      <td>...</td>\n",
              "      <td>...</td>\n",
              "      <td>...</td>\n",
              "      <td>...</td>\n",
              "      <td>...</td>\n",
              "      <td>...</td>\n",
              "      <td>...</td>\n",
              "      <td>...</td>\n",
              "      <td>...</td>\n",
              "      <td>...</td>\n",
              "      <td>...</td>\n",
              "      <td>...</td>\n",
              "      <td>...</td>\n",
              "      <td>...</td>\n",
              "      <td>...</td>\n",
              "      <td>...</td>\n",
              "      <td>...</td>\n",
              "      <td>...</td>\n",
              "      <td>...</td>\n",
              "      <td>...</td>\n",
              "      <td>...</td>\n",
              "    </tr>\n",
              "    <tr>\n",
              "      <th>33836</th>\n",
              "      <td>0.000000</td>\n",
              "      <td>0.000000</td>\n",
              "      <td>0.000000</td>\n",
              "      <td>0.000000</td>\n",
              "      <td>0.00000</td>\n",
              "      <td>0.000000</td>\n",
              "      <td>0.000000</td>\n",
              "      <td>0.000000</td>\n",
              "      <td>0.000000</td>\n",
              "      <td>0.000000</td>\n",
              "      <td>...</td>\n",
              "      <td>0.452779</td>\n",
              "      <td>0.491644</td>\n",
              "      <td>0.406141</td>\n",
              "      <td>0.627672</td>\n",
              "      <td>0.542169</td>\n",
              "      <td>0.524679</td>\n",
              "      <td>0.551885</td>\n",
              "      <td>0.596580</td>\n",
              "      <td>0.460552</td>\n",
              "      <td>0.472211</td>\n",
              "    </tr>\n",
              "    <tr>\n",
              "      <th>33837</th>\n",
              "      <td>0.000000</td>\n",
              "      <td>0.000000</td>\n",
              "      <td>0.000000</td>\n",
              "      <td>0.000000</td>\n",
              "      <td>0.00000</td>\n",
              "      <td>0.000000</td>\n",
              "      <td>0.000000</td>\n",
              "      <td>0.000000</td>\n",
              "      <td>0.000000</td>\n",
              "      <td>0.000000</td>\n",
              "      <td>...</td>\n",
              "      <td>0.491982</td>\n",
              "      <td>0.892625</td>\n",
              "      <td>0.563600</td>\n",
              "      <td>0.467590</td>\n",
              "      <td>0.687114</td>\n",
              "      <td>0.442161</td>\n",
              "      <td>0.400125</td>\n",
              "      <td>0.381961</td>\n",
              "      <td>0.361202</td>\n",
              "      <td>0.408947</td>\n",
              "    </tr>\n",
              "    <tr>\n",
              "      <th>33838</th>\n",
              "      <td>0.000000</td>\n",
              "      <td>0.000000</td>\n",
              "      <td>0.000000</td>\n",
              "      <td>0.000000</td>\n",
              "      <td>0.00000</td>\n",
              "      <td>0.000000</td>\n",
              "      <td>0.000000</td>\n",
              "      <td>0.000000</td>\n",
              "      <td>0.000000</td>\n",
              "      <td>0.000000</td>\n",
              "      <td>...</td>\n",
              "      <td>0.912206</td>\n",
              "      <td>0.853460</td>\n",
              "      <td>0.593995</td>\n",
              "      <td>0.673956</td>\n",
              "      <td>0.742493</td>\n",
              "      <td>0.553198</td>\n",
              "      <td>0.515666</td>\n",
              "      <td>0.657637</td>\n",
              "      <td>0.574413</td>\n",
              "      <td>0.793081</td>\n",
              "    </tr>\n",
              "    <tr>\n",
              "      <th>33839</th>\n",
              "      <td>0.000000</td>\n",
              "      <td>0.000000</td>\n",
              "      <td>0.000000</td>\n",
              "      <td>0.000000</td>\n",
              "      <td>0.00000</td>\n",
              "      <td>0.000000</td>\n",
              "      <td>0.000000</td>\n",
              "      <td>0.000000</td>\n",
              "      <td>0.000000</td>\n",
              "      <td>0.000000</td>\n",
              "      <td>...</td>\n",
              "      <td>0.000000</td>\n",
              "      <td>0.000000</td>\n",
              "      <td>0.000000</td>\n",
              "      <td>0.000000</td>\n",
              "      <td>0.000000</td>\n",
              "      <td>0.000000</td>\n",
              "      <td>0.000000</td>\n",
              "      <td>0.000000</td>\n",
              "      <td>0.000000</td>\n",
              "      <td>0.000000</td>\n",
              "    </tr>\n",
              "    <tr>\n",
              "      <th>33840</th>\n",
              "      <td>0.000000</td>\n",
              "      <td>0.000000</td>\n",
              "      <td>0.000000</td>\n",
              "      <td>0.000000</td>\n",
              "      <td>0.00000</td>\n",
              "      <td>0.000000</td>\n",
              "      <td>0.000000</td>\n",
              "      <td>0.000000</td>\n",
              "      <td>0.000000</td>\n",
              "      <td>0.000000</td>\n",
              "      <td>...</td>\n",
              "      <td>0.615005</td>\n",
              "      <td>0.531096</td>\n",
              "      <td>0.512340</td>\n",
              "      <td>0.537019</td>\n",
              "      <td>0.580454</td>\n",
              "      <td>0.500494</td>\n",
              "      <td>0.635735</td>\n",
              "      <td>0.492596</td>\n",
              "      <td>0.552813</td>\n",
              "      <td>0.615005</td>\n",
              "    </tr>\n",
              "  </tbody>\n",
              "</table>\n",
              "<p>33841 rows × 1034 columns</p>\n",
              "</div>\n",
              "      <button class=\"colab-df-convert\" onclick=\"convertToInteractive('df-fe263405-2cc4-4974-93f0-716fec2dbeb3')\"\n",
              "              title=\"Convert this dataframe to an interactive table.\"\n",
              "              style=\"display:none;\">\n",
              "        \n",
              "  <svg xmlns=\"http://www.w3.org/2000/svg\" height=\"24px\"viewBox=\"0 0 24 24\"\n",
              "       width=\"24px\">\n",
              "    <path d=\"M0 0h24v24H0V0z\" fill=\"none\"/>\n",
              "    <path d=\"M18.56 5.44l.94 2.06.94-2.06 2.06-.94-2.06-.94-.94-2.06-.94 2.06-2.06.94zm-11 1L8.5 8.5l.94-2.06 2.06-.94-2.06-.94L8.5 2.5l-.94 2.06-2.06.94zm10 10l.94 2.06.94-2.06 2.06-.94-2.06-.94-.94-2.06-.94 2.06-2.06.94z\"/><path d=\"M17.41 7.96l-1.37-1.37c-.4-.4-.92-.59-1.43-.59-.52 0-1.04.2-1.43.59L10.3 9.45l-7.72 7.72c-.78.78-.78 2.05 0 2.83L4 21.41c.39.39.9.59 1.41.59.51 0 1.02-.2 1.41-.59l7.78-7.78 2.81-2.81c.8-.78.8-2.07 0-2.86zM5.41 20L4 18.59l7.72-7.72 1.47 1.35L5.41 20z\"/>\n",
              "  </svg>\n",
              "      </button>\n",
              "      \n",
              "  <style>\n",
              "    .colab-df-container {\n",
              "      display:flex;\n",
              "      flex-wrap:wrap;\n",
              "      gap: 12px;\n",
              "    }\n",
              "\n",
              "    .colab-df-convert {\n",
              "      background-color: #E8F0FE;\n",
              "      border: none;\n",
              "      border-radius: 50%;\n",
              "      cursor: pointer;\n",
              "      display: none;\n",
              "      fill: #1967D2;\n",
              "      height: 32px;\n",
              "      padding: 0 0 0 0;\n",
              "      width: 32px;\n",
              "    }\n",
              "\n",
              "    .colab-df-convert:hover {\n",
              "      background-color: #E2EBFA;\n",
              "      box-shadow: 0px 1px 2px rgba(60, 64, 67, 0.3), 0px 1px 3px 1px rgba(60, 64, 67, 0.15);\n",
              "      fill: #174EA6;\n",
              "    }\n",
              "\n",
              "    [theme=dark] .colab-df-convert {\n",
              "      background-color: #3B4455;\n",
              "      fill: #D2E3FC;\n",
              "    }\n",
              "\n",
              "    [theme=dark] .colab-df-convert:hover {\n",
              "      background-color: #434B5C;\n",
              "      box-shadow: 0px 1px 3px 1px rgba(0, 0, 0, 0.15);\n",
              "      filter: drop-shadow(0px 1px 2px rgba(0, 0, 0, 0.3));\n",
              "      fill: #FFFFFF;\n",
              "    }\n",
              "  </style>\n",
              "\n",
              "      <script>\n",
              "        const buttonEl =\n",
              "          document.querySelector('#df-fe263405-2cc4-4974-93f0-716fec2dbeb3 button.colab-df-convert');\n",
              "        buttonEl.style.display =\n",
              "          google.colab.kernel.accessAllowed ? 'block' : 'none';\n",
              "\n",
              "        async function convertToInteractive(key) {\n",
              "          const element = document.querySelector('#df-fe263405-2cc4-4974-93f0-716fec2dbeb3');\n",
              "          const dataTable =\n",
              "            await google.colab.kernel.invokeFunction('convertToInteractive',\n",
              "                                                     [key], {});\n",
              "          if (!dataTable) return;\n",
              "\n",
              "          const docLinkHtml = 'Like what you see? Visit the ' +\n",
              "            '<a target=\"_blank\" href=https://colab.research.google.com/notebooks/data_table.ipynb>data table notebook</a>'\n",
              "            + ' to learn more about interactive tables.';\n",
              "          element.innerHTML = '';\n",
              "          dataTable['output_type'] = 'display_data';\n",
              "          await google.colab.output.renderOutput(dataTable, element);\n",
              "          const docLink = document.createElement('div');\n",
              "          docLink.innerHTML = docLinkHtml;\n",
              "          element.appendChild(docLink);\n",
              "        }\n",
              "      </script>\n",
              "    </div>\n",
              "  </div>\n",
              "  "
            ]
          },
          "metadata": {},
          "execution_count": 15
        }
      ]
    },
    {
      "cell_type": "code",
      "source": [
        "theft_c = df.iloc[4]\n",
        "normal_c = df.iloc[33840]"
      ],
      "metadata": {
        "id": "BX-kKF8MXsBM"
      },
      "execution_count": null,
      "outputs": []
    },
    {
      "cell_type": "code",
      "source": [
        "import matplotlib.pyplot as plt\n",
        "%matplotlib inline"
      ],
      "metadata": {
        "id": "3K9aFpcPngHC"
      },
      "execution_count": null,
      "outputs": []
    },
    {
      "cell_type": "code",
      "source": [
        "plt.figure(figsize = (10,5))\n",
        "x = [1,2,3,4,5,6,7,8,9,10,11,12,13,14,15,16,17,18,19,20,21,22,23,24,25,26,27,28,29,30]\n",
        "plt.plot(x,theft_c[900:930],'r',label = 'Electricity Theft', data = None)\n",
        "plt.plot(x,normal_c[900:930],'g', label = 'Normal Usage',data = None)\n",
        "plt.legend(loc = 'upper left')\n",
        "plt.xlim(right=30) #xmax is your value\n",
        "plt.xlim(left=1) #xmin is your value\n",
        "plt.ylim(top=1.2) #ymax is your value\n",
        "plt.ylim(bottom=0)\n",
        "\n",
        "plt.title('Visualization of Electricity Theft and Normal Usage Data of 1 month')\n",
        "plt.xlabel('Day (August-2016)')\n",
        "plt.ylabel('Daily Electricity Consumption Data')\n",
        "#plt.grid(which='major', axis='both' )\n",
        "#plt.savefig('Pic.jpeg')\n",
        "plt.savefig('/mydrive/Fig2_One_month_visual.png', dpi = 2000)\n",
        "plt.show()"
      ],
      "metadata": {
        "colab": {
          "base_uri": "https://localhost:8080/",
          "height": 487
        },
        "id": "R8MSyRqfnqS-",
        "outputId": "6756643d-2589-412a-c9db-25e199096dd2"
      },
      "execution_count": null,
      "outputs": [
        {
          "output_type": "display_data",
          "data": {
            "text/plain": [
              "<Figure size 1000x500 with 1 Axes>"
            ],
            "image/png": "[encoded data removed]"
          },
          "metadata": {}
        }
      ]
    },
    {
      "cell_type": "code",
      "source": [
        "#Save Plot Data in CSV File\n",
        "d = {'Theft': theft_c[900:930], 'Normal': normal_c[900:930]}\n",
        "vis_data = pd.DataFrame(data=d)\n",
        "vis_data.to_csv(\"/mydrive/Fig2_One_month_visual.csv\")"
      ],
      "metadata": {
        "id": "1BWo6IN-qYUN"
      },
      "execution_count": null,
      "outputs": []
    },
    {
      "cell_type": "code",
      "source": [
        "r = 1000\n",
        "w1 = normal_c[r:r+7]\n",
        "w2 = normal_c[r+7:r+14]\n",
        "w3 = normal_c[r+14:r+21]\n",
        "w4 = normal_c[r+21:r+28]\n",
        "print(w1.shape)\n",
        "print(w2.shape)\n",
        "print(w3.shape)\n",
        "\n",
        "x = ['Day1','Day2','Day3','Day4','Day5','Day6','Day7']\n",
        "plt.figure(figsize = (10,5))\n",
        "plt.plot(x,w1,label = '1st Week', linewidth=3.0)\n",
        "plt.plot(x,w2,label = '2nd Week',linewidth=3.0)\n",
        "plt.plot(x,w3,label = '3rd Week',linewidth=3.0)\n",
        "plt.plot(x,w4,label = '4rth Week',linewidth=3.0)\n",
        "plt.axis([0, 6, 0, 1])\n",
        "plt.legend() #loc = 'upper left'\n",
        "\n",
        "plt.title('Weekly Visualisation of  Normal Usage Data of 1 month', color = \"black\", weight = \"bold\")\n",
        "\n",
        "plt.ylabel('Daily Electricity Consumption Data (Normalized)',color = \"black\")\n",
        "#plt.grid(which='major', axis='both' )\n",
        "#plt.savefig('Pic.jpeg')\n",
        "plt.savefig('/mydrive/F3_Weekly_Visual_Normal.png', dpi = 1500)\n",
        "plt.show()"
      ],
      "metadata": {
        "colab": {
          "base_uri": "https://localhost:8080/",
          "height": 520
        },
        "id": "N1LNGEdVqnaS",
        "outputId": "9350280a-7169-4342-efe3-1392f89e0e01"
      },
      "execution_count": null,
      "outputs": [
        {
          "output_type": "stream",
          "name": "stdout",
          "text": [
            "(7,)\n",
            "(7,)\n",
            "(7,)\n"
          ]
        },
        {
          "output_type": "display_data",
          "data": {
            "text/plain": [
              "<Figure size 1000x500 with 1 Axes>"
            ],
            "image/png": "[encoded data removed]"
          },
          "metadata": {}
        }
      ]
    },
    {
      "cell_type": "code",
      "source": [
        "#Save in Excel\n",
        "d = {'Week1': np.array(w1),'Week2': np.array(w2),'Week3': np.array(w3),'Week4': np.array(w4)}\n",
        "weekly_nor = pd.DataFrame(data=d)\n",
        "weekly_nor.to_csv(\"/mydrive/F2_Weekly_visual_Normal.csv\")"
      ],
      "metadata": {
        "id": "S_rvKRaoqvuS"
      },
      "execution_count": null,
      "outputs": []
    },
    {
      "cell_type": "code",
      "source": [
        "r = 1005\n",
        "w1 = theft_c[r:r+7]\n",
        "w2 = theft_c[r+7:r+14]\n",
        "w3 = theft_c[r+14:r+21]\n",
        "w4 = theft_c[r+21:r+28]\n",
        "print(w1.shape)\n",
        "print(w2.shape)\n",
        "print(w3.shape)\n",
        "\n",
        "x = ['Day1','Day2','Day3','Day4','Day5','Day6','Day7']\n",
        "plt.figure(figsize = (10,5))\n",
        "plt.plot(x,w1,label = '1st Week', linewidth=3.0)\n",
        "plt.plot(x,w2,label = '2nd Week',linewidth=3.0)\n",
        "plt.plot(x,w3,label = '3rd Week',linewidth=3.0)\n",
        "plt.plot(x,w4,label = '4rth Week',linewidth=3.0)\n",
        "plt.axis([0, 6, 0, 1.2])\n",
        "plt.legend() #loc = 'upper left'\n",
        "\n",
        "plt.title('Weekly Visualisation of Theft Data of 1 month', color = \"black\", weight = \"bold\")\n",
        "\n",
        "plt.ylabel('Daily Electricity Consumption Data (Normalized)',color = \"black\")\n",
        "#plt.grid(which='major', axis='both' )\n",
        "#plt.savefig('Pic.jpeg')\n",
        "plt.savefig('/mydrive/F3_Weekly_Visual_Theft.png', dpi = 1500)\n",
        "plt.show()"
      ],
      "metadata": {
        "colab": {
          "base_uri": "https://localhost:8080/",
          "height": 520
        },
        "id": "-kZ-ys-Pq60T",
        "outputId": "e706d632-fb17-4478-f86a-dcc8474e5975"
      },
      "execution_count": null,
      "outputs": [
        {
          "output_type": "stream",
          "name": "stdout",
          "text": [
            "(7,)\n",
            "(7,)\n",
            "(7,)\n"
          ]
        },
        {
          "output_type": "display_data",
          "data": {
            "text/plain": [
              "<Figure size 1000x500 with 1 Axes>"
            ],
            "image/png": "[encoded data removed]"
          },
          "metadata": {}
        }
      ]
    },
    {
      "cell_type": "code",
      "source": [
        "#Save in Excel\n",
        "d = {'Week1': np.array(w1),'Week2': np.array(w2),'Week3': np.array(w3),'Week4': np.array(w4)}\n",
        "weekly_theft = pd.DataFrame(data=d)\n",
        "weekly_theft.to_csv(\"/mydrive/F2_Weekly_visual_theft.csv\")"
      ],
      "metadata": {
        "id": "ntuRtNFhraiI"
      },
      "execution_count": null,
      "outputs": []
    },
    {
      "cell_type": "code",
      "source": [
        "\n",
        "x = np.array(df)\n",
        "y = np.array(Y)"
      ],
      "metadata": {
        "id": "Llh1CLL9rbBW"
      },
      "execution_count": null,
      "outputs": []
    },
    {
      "cell_type": "code",
      "source": [
        "print(x.shape)\n",
        "print(y.shape)"
      ],
      "metadata": {
        "colab": {
          "base_uri": "https://localhost:8080/"
        },
        "id": "Gmf9MTq7rhz_",
        "outputId": "0894aa53-8a7b-4ee8-e7e5-628734b0bf00"
      },
      "execution_count": null,
      "outputs": [
        {
          "output_type": "stream",
          "name": "stdout",
          "text": [
            "(33841, 1034)\n",
            "(33841,)\n"
          ]
        }
      ]
    },
    {
      "cell_type": "code",
      "source": [
        "from sklearn.model_selection import train_test_split\n",
        "x_train, x_test, y_train, y_test = train_test_split(x, Y, test_size=0.20) #random_state=42"
      ],
      "metadata": {
        "id": "9F0nuBXxrj7Q"
      },
      "execution_count": null,
      "outputs": []
    },
    {
      "cell_type": "code",
      "source": [
        "print(x_train.shape)\n",
        "print(y_train.shape)\n",
        "print(x_test.shape)\n",
        "print(y_test.shape)"
      ],
      "metadata": {
        "colab": {
          "base_uri": "https://localhost:8080/"
        },
        "id": "HUaJD0W4r46K",
        "outputId": "a9f09aaf-75d7-44c8-bf04-d52e4a47f16f"
      },
      "execution_count": null,
      "outputs": [
        {
          "output_type": "stream",
          "name": "stdout",
          "text": [
            "(27072, 1034)\n",
            "(27072,)\n",
            "(6769, 1034)\n",
            "(6769,)\n"
          ]
        }
      ]
    },
    {
      "cell_type": "code",
      "source": [
        "x_train = x_train.reshape(x_train.shape[0],94,11)\n",
        "x_test = x_test.reshape(x_test.shape[0],94,11)\n",
        "#x_train = x_train.reshape(x_train.shape[0],x_train.shape[1],1)\n",
        "#x_test = x_test.reshape(x_test.shape[0],x_test.shape[1],1)\n",
        "#y_train = y_train.reshape(y_train.shape[0],1)\n",
        "#y_test = y_test.reshape(y_test.shape[0],1)"
      ],
      "metadata": {
        "id": "BATPs1gfr8U_"
      },
      "execution_count": null,
      "outputs": []
    },
    {
      "cell_type": "code",
      "source": [
        "print(x_train.shape)\n",
        "print(y_train.shape)\n",
        "print(x_test.shape)\n",
        "print(y_test.shape)"
      ],
      "metadata": {
        "colab": {
          "base_uri": "https://localhost:8080/"
        },
        "id": "8W14H_VGsBcu",
        "outputId": "1c299f70-538a-4de9-9368-3629f0ac7ad3"
      },
      "execution_count": null,
      "outputs": [
        {
          "output_type": "stream",
          "name": "stdout",
          "text": [
            "(27072, 94, 11)\n",
            "(27072,)\n",
            "(6769, 94, 11)\n",
            "(6769,)\n"
          ]
        }
      ]
    },
    {
      "cell_type": "code",
      "source": [
        "!pip install keras-tuner"
      ],
      "metadata": {
        "colab": {
          "base_uri": "https://localhost:8080/"
        },
        "id": "uj_oWKbeJzyL",
        "outputId": "273302c0-6fb5-4201-85a4-4e18a29d6e48"
      },
      "execution_count": null,
      "outputs": [
        {
          "output_type": "stream",
          "name": "stdout",
          "text": [
            "Looking in indexes: https://pypi.org/simple, https://us-python.pkg.dev/colab-wheels/public/simple/\n",
            "Collecting keras-tuner\n",
            "  Downloading keras_tuner-1.3.5-py3-none-any.whl (176 kB)\n",
            "\u001b[2K     \u001b[90m━━━━━━━━━━━━━━━━━━━━━━━━━━━━━━━━━━━━━━━\u001b[0m \u001b[32m176.1/176.1 kB\u001b[0m \u001b[31m8.1 MB/s\u001b[0m eta \u001b[36m0:00:00\u001b[0m\n",
            "\u001b[?25hCollecting kt-legacy\n",
            "  Downloading kt_legacy-1.0.5-py3-none-any.whl (9.6 kB)\n",
            "Requirement already satisfied: requests in /usr/local/lib/python3.10/dist-packages (from keras-tuner) (2.27.1)\n",
            "Requirement already satisfied: packaging in /usr/local/lib/python3.10/dist-packages (from keras-tuner) (23.1)\n",
            "Requirement already satisfied: charset-normalizer~=2.0.0 in /usr/local/lib/python3.10/dist-packages (from requests->keras-tuner) (2.0.12)\n",
            "Requirement already satisfied: urllib3<1.27,>=1.21.1 in /usr/local/lib/python3.10/dist-packages (from requests->keras-tuner) (1.26.15)\n",
            "Requirement already satisfied: certifi>=2017.4.17 in /usr/local/lib/python3.10/dist-packages (from requests->keras-tuner) (2022.12.7)\n",
            "Requirement already satisfied: idna<4,>=2.5 in /usr/local/lib/python3.10/dist-packages (from requests->keras-tuner) (3.4)\n",
            "Installing collected packages: kt-legacy, keras-tuner\n",
            "Successfully installed keras-tuner-1.3.5 kt-legacy-1.0.5\n"
          ]
        }
      ]
    },
    {
      "cell_type": "code",
      "source": [
        "\n",
        "import tensorflow as tf\n",
        "import keras_tuner\n",
        "from tensorflow import keras"
      ],
      "metadata": {
        "id": "ze10vbg_J1cp"
      },
      "execution_count": null,
      "outputs": []
    },
    {
      "cell_type": "code",
      "source": [
        "def build_model(hp):\n",
        "  model = keras.Sequential([\n",
        "    keras.layers.Conv1D(\n",
        "        filters=hp.Int('conv_1_filter', min_value=32, max_value=112, step=16),\n",
        "        kernel_size=hp.Choice('conv_1_kernel', values = [3,5]),\n",
        "        activation='relu',\n",
        "        input_shape=(94,11)\n",
        "    ),\n",
        "    keras.layers.Conv1D(\n",
        "        filters=hp.Int('conv_1_filter', min_value=32, max_value=64, step=16),\n",
        "        kernel_size=hp.Choice('conv_1_kernel', values = [3,5]),\n",
        "        activation='relu'\n",
        "    ),\n",
        "    keras.layers.Flatten(),\n",
        "    keras.layers.Dense(\n",
        "        units=hp.Int('dense_1_units', min_value=80, max_value=110, step=10),\n",
        "        activation='tanh'\n",
        "    ),\n",
        "    keras.layers.Dense(\n",
        "        units=hp.Int('dense_1_units', min_value=50, max_value=100, step=10),\n",
        "        activation='tanh'\n",
        "    ),\n",
        "    keras.layers.Dense(1, activation='sigmoid')\n",
        "  ])\n",
        "\n",
        "  model.compile(\n",
        "              loss='binary_crossentropy',\n",
        "              metrics=['accuracy'])\n",
        "\n",
        "  return model"
      ],
      "metadata": {
        "id": "z0rwkgoEJ1Xl"
      },
      "execution_count": null,
      "outputs": []
    },
    {
      "cell_type": "code",
      "source": [
        "from kerastuner import RandomSearch\n",
        "from kerastuner.engine.hyperparameters import HyperParameters"
      ],
      "metadata": {
        "id": "91RGOubLJ1Tv",
        "colab": {
          "base_uri": "https://localhost:8080/"
        },
        "outputId": "c2b62515-92dc-4dc8-e5a3-988a85f2c62a"
      },
      "execution_count": null,
      "outputs": [
        {
          "output_type": "stream",
          "name": "stderr",
          "text": [
            "<ipython-input-26-2bbfbe7dae29>:1: DeprecationWarning: `import kerastuner` is deprecated, please use `import keras_tuner`.\n",
            "  from kerastuner import RandomSearch\n"
          ]
        }
      ]
    },
    {
      "cell_type": "code",
      "source": [
        "tuner=keras_tuner.RandomSearch(build_model,\n",
        "                          objective='val_accuracy',\n",
        "                          max_trials=5,directory='output',project_name=\"Elec theft cnn\")"
      ],
      "metadata": {
        "id": "SJ1HGqmzJ1AG"
      },
      "execution_count": null,
      "outputs": []
    },
    {
      "cell_type": "code",
      "source": [
        "tuner.search(x_train, y_train, epochs=15, validation_data=(x_test,y_test))\n"
      ],
      "metadata": {
        "id": "qD-NQCYtTA-U"
      },
      "execution_count": null,
      "outputs": []
    },
    {
      "cell_type": "code",
      "source": [
        "best_model = tuner.get_best_models()[0]"
      ],
      "metadata": {
        "id": "0XSNit6tZwmp"
      },
      "execution_count": null,
      "outputs": []
    },
    {
      "cell_type": "code",
      "source": [
        "from keras.models import Sequential\n",
        "\n",
        "from keras.layers import Dense\n",
        "from keras.layers import Flatten\n",
        "from keras.layers import Dropout\n",
        "from keras.layers.convolutional import Conv1D\n",
        "from keras.layers.convolutional import MaxPooling1D\n",
        "from keras.utils import to_categorical\n",
        "\n",
        "from keras.optimizers import Adam\n"
      ],
      "metadata": {
        "id": "JJfiB2g1QKN0"
      },
      "execution_count": null,
      "outputs": []
    },
    {
      "cell_type": "code",
      "source": [
        "#n_steps,n_features = 50,1\n",
        "model = Sequential()\n",
        "model.add(Conv1D(filters=64, kernel_size=3, activation='relu', input_shape=(94,11)))\n",
        "model.add(MaxPooling1D(pool_size=2))\n",
        "model.add(Conv1D(filters=32, kernel_size=3, activation='relu'))\n",
        "model.add(MaxPooling1D(pool_size=2))\n",
        "model.add(Flatten())\n",
        "model.add(Dense(80, activation='tanh'))\n",
        "model.add(Dropout(0.2))\n",
        "model.add(Dense(50, activation='tanh'))\n",
        "model.add(Dropout(0.2))\n",
        "model.add(Dense(1, activation='sigmoid'))\n",
        "\n",
        "model.compile(loss='binary_crossentropy', optimizer='adam', metrics=['accuracy'])"
      ],
      "metadata": {
        "id": "HVo-kUWnQr1P"
      },
      "execution_count": null,
      "outputs": []
    },
    {
      "cell_type": "code",
      "source": [
        "model.fit(x_train,y_train, epochs=25, validation_data=(x_test, y_test), initial_epoch=10)"
      ],
      "metadata": {
        "colab": {
          "base_uri": "https://localhost:8080/"
        },
        "id": "8sAPX1V7P8gl",
        "outputId": "1e7ec987-c5f3-490d-dc08-1015b74b14d3"
      },
      "execution_count": null,
      "outputs": [
        {
          "output_type": "stream",
          "name": "stdout",
          "text": [
            "Epoch 11/25\n",
            "846/846 [==============================] - 4s 5ms/step - loss: 0.0482 - accuracy: 0.9836 - val_loss: 0.4789 - val_accuracy: 0.9028\n",
            "Epoch 12/25\n",
            "846/846 [==============================] - 5s 6ms/step - loss: 0.0463 - accuracy: 0.9842 - val_loss: 0.5003 - val_accuracy: 0.8992\n",
            "Epoch 13/25\n",
            "846/846 [==============================] - 4s 4ms/step - loss: 0.0431 - accuracy: 0.9856 - val_loss: 0.5203 - val_accuracy: 0.9021\n",
            "Epoch 14/25\n",
            "846/846 [==============================] - 4s 5ms/step - loss: 0.0469 - accuracy: 0.9844 - val_loss: 0.5073 - val_accuracy: 0.9080\n",
            "Epoch 15/25\n",
            "846/846 [==============================] - 5s 5ms/step - loss: 0.0422 - accuracy: 0.9864 - val_loss: 0.5425 - val_accuracy: 0.9026\n",
            "Epoch 16/25\n",
            "846/846 [==============================] - 4s 5ms/step - loss: 0.0484 - accuracy: 0.9839 - val_loss: 0.5118 - val_accuracy: 0.9044\n",
            "Epoch 17/25\n",
            "846/846 [==============================] - 4s 4ms/step - loss: 0.0435 - accuracy: 0.9851 - val_loss: 0.5162 - val_accuracy: 0.8963\n",
            "Epoch 18/25\n",
            "846/846 [==============================] - 4s 4ms/step - loss: 0.0475 - accuracy: 0.9843 - val_loss: 0.4813 - val_accuracy: 0.9077\n",
            "Epoch 19/25\n",
            "846/846 [==============================] - 5s 6ms/step - loss: 0.0430 - accuracy: 0.9856 - val_loss: 0.5029 - val_accuracy: 0.9078\n",
            "Epoch 20/25\n",
            "846/846 [==============================] - 4s 5ms/step - loss: 0.0432 - accuracy: 0.9855 - val_loss: 0.5039 - val_accuracy: 0.9062\n",
            "Epoch 21/25\n",
            "846/846 [==============================] - 4s 5ms/step - loss: 0.0394 - accuracy: 0.9871 - val_loss: 0.5389 - val_accuracy: 0.8923\n",
            "Epoch 22/25\n",
            "846/846 [==============================] - 5s 6ms/step - loss: 0.0446 - accuracy: 0.9846 - val_loss: 0.5128 - val_accuracy: 0.8995\n",
            "Epoch 23/25\n",
            "846/846 [==============================] - 4s 5ms/step - loss: 0.0408 - accuracy: 0.9856 - val_loss: 0.5146 - val_accuracy: 0.9035\n",
            "Epoch 24/25\n",
            "846/846 [==============================] - 4s 5ms/step - loss: 0.0377 - accuracy: 0.9880 - val_loss: 0.5247 - val_accuracy: 0.9066\n",
            "Epoch 25/25\n",
            "846/846 [==============================] - 4s 5ms/step - loss: 0.0450 - accuracy: 0.9850 - val_loss: 0.5094 - val_accuracy: 0.9097\n"
          ]
        },
        {
          "output_type": "execute_result",
          "data": {
            "text/plain": [
              "<keras.callbacks.History at 0x7f08a32f98d0>"
            ]
          },
          "metadata": {},
          "execution_count": 37
        }
      ]
    },
    {
      "cell_type": "code",
      "source": [
        "from keras.layers import Conv1D, MaxPooling1D, LSTM, Dense\n",
        "\n",
        "# define the CNN-LSTM model\n",
        "model = Sequential()\n",
        "\n",
        "# add a 1D convolutional layer\n",
        "model.add(Conv1D(filters=64, kernel_size=3, activation='relu', input_shape=(94,11)))\n",
        "\n",
        "# add a max pooling layer\n",
        "model.add(MaxPooling1D(pool_size=2))\n",
        "\n",
        "model.add(Conv1D(filters=32, kernel_size=3, activation='relu'))\n",
        "model.add(MaxPooling1D(pool_size=2))\n",
        "\n",
        "\n",
        "\n",
        "# add an LSTM layer\n",
        "model.add(LSTM(units=316, activation='tanh', recurrent_activation='sigmoid', use_bias=True,\n",
        "                  kernel_initializer='glorot_uniform', recurrent_initializer='orthogonal',\n",
        "                  bias_initializer='zeros', unit_forget_bias=True, dropout=0.0, recurrent_dropout=0.0,\n",
        "                  return_sequences=False, return_state=False, go_backwards=False, stateful=False,\n",
        "                  time_major=False, input_shape= (94,11)))\n",
        "\n",
        "model.add(Flatten())\n",
        "\n",
        "model.add(Dense(80, activation='tanh'))\n",
        "model.add(Dropout(0.2))\n",
        "\n",
        "model.add(Dense(50, activation='tanh'))\n",
        "model.add(Dropout(0.2))\n",
        "# add a dense output layer with sigmoid activation for binary classification\n",
        "model.add(Dense(1, activation='sigmoid'))\n",
        "# compile the model\n",
        "model.compile(loss='binary_crossentropy', optimizer='adam', metrics=['accuracy'])"
      ],
      "metadata": {
        "id": "vHxzb95-fLqw"
      },
      "execution_count": null,
      "outputs": []
    },
    {
      "cell_type": "code",
      "source": [
        "# fit the model\n",
        "history=model.fit(x_train, y_train, epochs=15, batch_size=32, validation_data=(x_test, y_test))"
      ],
      "metadata": {
        "id": "MRjh1-XBf4rY",
        "colab": {
          "base_uri": "https://localhost:8080/"
        },
        "outputId": "7e075163-3a36-4252-cbfd-df8c3e735f93"
      },
      "execution_count": null,
      "outputs": [
        {
          "output_type": "stream",
          "name": "stdout",
          "text": [
            "Epoch 1/15\n",
            "846/846 [==============================] - 6s 7ms/step - loss: 0.0210 - accuracy: 0.9941 - val_loss: 0.4944 - val_accuracy: 0.9114\n",
            "Epoch 2/15\n",
            "846/846 [==============================] - 6s 7ms/step - loss: 0.0250 - accuracy: 0.9925 - val_loss: 0.4600 - val_accuracy: 0.9118\n",
            "Epoch 3/15\n",
            "846/846 [==============================] - 6s 7ms/step - loss: 0.0229 - accuracy: 0.9934 - val_loss: 0.4900 - val_accuracy: 0.9111\n",
            "Epoch 4/15\n",
            "846/846 [==============================] - 5s 6ms/step - loss: 0.0223 - accuracy: 0.9938 - val_loss: 0.5066 - val_accuracy: 0.9131\n",
            "Epoch 5/15\n",
            "846/846 [==============================] - 6s 7ms/step - loss: 0.0198 - accuracy: 0.9943 - val_loss: 0.5447 - val_accuracy: 0.9072\n",
            "Epoch 6/15\n",
            "846/846 [==============================] - 5s 6ms/step - loss: 0.0236 - accuracy: 0.9931 - val_loss: 0.5149 - val_accuracy: 0.9053\n",
            "Epoch 7/15\n",
            "846/846 [==============================] - 6s 7ms/step - loss: 0.0186 - accuracy: 0.9947 - val_loss: 0.4992 - val_accuracy: 0.9056\n",
            "Epoch 8/15\n",
            "846/846 [==============================] - 6s 7ms/step - loss: 0.0218 - accuracy: 0.9941 - val_loss: 0.5181 - val_accuracy: 0.9111\n",
            "Epoch 9/15\n",
            "846/846 [==============================] - 6s 7ms/step - loss: 0.0156 - accuracy: 0.9960 - val_loss: 0.5675 - val_accuracy: 0.9056\n",
            "Epoch 10/15\n",
            "846/846 [==============================] - 6s 7ms/step - loss: 0.0254 - accuracy: 0.9929 - val_loss: 0.4998 - val_accuracy: 0.9111\n",
            "Epoch 11/15\n",
            "846/846 [==============================] - 5s 6ms/step - loss: 0.0213 - accuracy: 0.9939 - val_loss: 0.5068 - val_accuracy: 0.9044\n",
            "Epoch 12/15\n",
            "846/846 [==============================] - 6s 8ms/step - loss: 0.0225 - accuracy: 0.9935 - val_loss: 0.5144 - val_accuracy: 0.9068\n",
            "Epoch 13/15\n",
            "846/846 [==============================] - 6s 7ms/step - loss: 0.0222 - accuracy: 0.9938 - val_loss: 0.5211 - val_accuracy: 0.9065\n",
            "Epoch 14/15\n",
            "846/846 [==============================] - 7s 8ms/step - loss: 0.0279 - accuracy: 0.9920 - val_loss: 0.4991 - val_accuracy: 0.9072\n",
            "Epoch 15/15\n",
            "846/846 [==============================] - 6s 7ms/step - loss: 0.0189 - accuracy: 0.9950 - val_loss: 0.4999 - val_accuracy: 0.9108\n"
          ]
        }
      ]
    },
    {
      "cell_type": "code",
      "source": [
        "model.summary()\n"
      ],
      "metadata": {
        "colab": {
          "base_uri": "https://localhost:8080/"
        },
        "id": "-sFk9LHNOE91",
        "outputId": "4fb272ff-c281-46f5-dfc1-1dcebda49d50"
      },
      "execution_count": null,
      "outputs": [
        {
          "output_type": "stream",
          "name": "stdout",
          "text": [
            "Model: \"sequential_6\"\n",
            "_________________________________________________________________\n",
            " Layer (type)                Output Shape              Param #   \n",
            "=================================================================\n",
            " conv1d_12 (Conv1D)          (None, 92, 64)            2176      \n",
            "                                                                 \n",
            " max_pooling1d_10 (MaxPoolin  (None, 46, 64)           0         \n",
            " g1D)                                                            \n",
            "                                                                 \n",
            " conv1d_13 (Conv1D)          (None, 44, 32)            6176      \n",
            "                                                                 \n",
            " max_pooling1d_11 (MaxPoolin  (None, 22, 32)           0         \n",
            " g1D)                                                            \n",
            "                                                                 \n",
            " lstm_4 (LSTM)               (None, 316)               441136    \n",
            "                                                                 \n",
            " flatten_6 (Flatten)         (None, 316)               0         \n",
            "                                                                 \n",
            " dense_18 (Dense)            (None, 80)                25360     \n",
            "                                                                 \n",
            " dropout_10 (Dropout)        (None, 80)                0         \n",
            "                                                                 \n",
            " dense_19 (Dense)            (None, 50)                4050      \n",
            "                                                                 \n",
            " dropout_11 (Dropout)        (None, 50)                0         \n",
            "                                                                 \n",
            " dense_20 (Dense)            (None, 1)                 51        \n",
            "                                                                 \n",
            "=================================================================\n",
            "Total params: 478,949\n",
            "Trainable params: 478,949\n",
            "Non-trainable params: 0\n",
            "_________________________________________________________________\n"
          ]
        }
      ]
    },
    {
      "cell_type": "code",
      "source": [
        "model.save('CNN_LSTM_Theft.h5')"
      ],
      "metadata": {
        "id": "VeTFhU7340nA"
      },
      "execution_count": null,
      "outputs": []
    },
    {
      "cell_type": "code",
      "source": [
        "\n",
        "!cp 'CNN_LSTM_Theft.h5' '/mydrive/cnn_lstm_theft.h5'"
      ],
      "metadata": {
        "id": "AOPAtA4R41LZ"
      },
      "execution_count": null,
      "outputs": []
    },
    {
      "cell_type": "code",
      "source": [
        "from keras.models import load_model\n",
        "model = load_model('/mydrive/cnn_lstm_theft.h5')\n",
        "\n"
      ],
      "metadata": {
        "id": "jOS0o6Wg47yu"
      },
      "execution_count": null,
      "outputs": []
    },
    {
      "cell_type": "code",
      "metadata": {
        "id": "C83UYQik-S3q",
        "colab": {
          "base_uri": "https://localhost:8080/"
        },
        "outputId": "d16925f7-7ebe-478d-ee29-cf91eafd6a54"
      },
      "source": [
        "# evaluate the model\n",
        "\n",
        "\n",
        "_, train_acc = model.evaluate(x_train, y_train, verbose=0)\n",
        "_, test_acc = model.evaluate(x_test, y_test, verbose=0)\n",
        "print('Train: %.3f, Test: %.3f' % (train_acc, test_acc))"
      ],
      "execution_count": null,
      "outputs": [
        {
          "output_type": "stream",
          "name": "stdout",
          "text": [
            "Train: 0.995, Test: 0.911\n"
          ]
        }
      ]
    },
    {
      "cell_type": "code",
      "source": [
        "from matplotlib import pyplot\n",
        "# plot loss during training\n",
        "pyplot.subplot(211)\n",
        "pyplot.title('Loss')\n",
        "pyplot.plot(history.history['loss'], label='train')\n",
        "pyplot.plot(history.history['val_loss'], label='test')\n",
        "pyplot.legend()\n"
      ],
      "metadata": {
        "colab": {
          "base_uri": "https://localhost:8080/",
          "height": 268
        },
        "id": "Ok-TZEVr5ciA",
        "outputId": "82c6724c-6a18-42c1-906b-22057a650578"
      },
      "execution_count": null,
      "outputs": [
        {
          "output_type": "execute_result",
          "data": {
            "text/plain": [
              "<matplotlib.legend.Legend at 0x7f0896cdc790>"
            ]
          },
          "metadata": {},
          "execution_count": 60
        },
        {
          "output_type": "display_data",
          "data": {
            "text/plain": [
              "<Figure size 640x480 with 1 Axes>"
            ],
            "image/png": "[encoded data removed]"
          },
          "metadata": {}
        }
      ]
    },
    {
      "cell_type": "code",
      "source": [
        "# plot accuracy during training\n",
        "pyplot.subplot(212)\n",
        "pyplot.title('Accuracy')\n",
        "pyplot.plot(history.history['accuracy'], label='train')\n",
        "pyplot.plot(history.history['val_accuracy'], label='test')\n",
        "pyplot.legend()\n",
        "pyplot.show()"
      ],
      "metadata": {
        "colab": {
          "base_uri": "https://localhost:8080/",
          "height": 251
        },
        "id": "WqEDfE6c5k__",
        "outputId": "3248a4f9-4343-4b74-b694-ceb95b2ee81c"
      },
      "execution_count": null,
      "outputs": [
        {
          "output_type": "display_data",
          "data": {
            "text/plain": [
              "<Figure size 640x480 with 1 Axes>"
            ],
            "image/png": "[encoded data removed]"
          },
          "metadata": {}
        }
      ]
    },
    {
      "cell_type": "code",
      "source": [
        "y_pred = model.predict(x_test)\n",
        "#probability Prediction"
      ],
      "metadata": {
        "colab": {
          "base_uri": "https://localhost:8080/"
        },
        "id": "WieEED1V55lm",
        "outputId": "84d54493-f362-441b-b68e-823a7b9e5901"
      },
      "execution_count": null,
      "outputs": [
        {
          "output_type": "stream",
          "name": "stdout",
          "text": [
            "212/212 [==============================] - 1s 3ms/step\n"
          ]
        }
      ]
    },
    {
      "cell_type": "code",
      "source": [
        "y_pred = (model.predict(x_test) > 0.5).astype(\"int32\")\n",
        "\n",
        "y_pred"
      ],
      "metadata": {
        "colab": {
          "base_uri": "https://localhost:8080/"
        },
        "id": "-aQV4Box5-fM",
        "outputId": "93f52fb2-b1c4-4a08-bac8-33c3b6a545db"
      },
      "execution_count": null,
      "outputs": [
        {
          "output_type": "stream",
          "name": "stdout",
          "text": [
            "212/212 [==============================] - 1s 2ms/step\n"
          ]
        },
        {
          "output_type": "execute_result",
          "data": {
            "text/plain": [
              "array([[0],\n",
              "       [0],\n",
              "       [0],\n",
              "       ...,\n",
              "       [0],\n",
              "       [0],\n",
              "       [0]], dtype=int32)"
            ]
          },
          "metadata": {},
          "execution_count": 63
        }
      ]
    },
    {
      "cell_type": "code",
      "source": [
        "count=0\n",
        "for i in y_pred:\n",
        "  if (i!=0):\n",
        "    count=count+1\n",
        "print('predicted 1 : ',count)\n",
        "\n",
        "count=0\n",
        "for i in y_test:\n",
        "  if (i!=0):\n",
        "    count=count+1\n",
        "print('actual 1 : ',count)"
      ],
      "metadata": {
        "colab": {
          "base_uri": "https://localhost:8080/"
        },
        "id": "mrznYCzB6ELe",
        "outputId": "57edfe2b-0982-4dc5-d06a-55e40f90594c"
      },
      "execution_count": null,
      "outputs": [
        {
          "output_type": "stream",
          "name": "stdout",
          "text": [
            "predicted 1 :  533\n",
            "actual 1 :  729\n"
          ]
        }
      ]
    },
    {
      "cell_type": "code",
      "source": [
        "len(y_pred)"
      ],
      "metadata": {
        "colab": {
          "base_uri": "https://localhost:8080/"
        },
        "id": "G1N93kOm6KiU",
        "outputId": "849073cb-8044-4d6c-d747-54b40ea11d77"
      },
      "execution_count": null,
      "outputs": [
        {
          "output_type": "execute_result",
          "data": {
            "text/plain": [
              "6769"
            ]
          },
          "metadata": {},
          "execution_count": 65
        }
      ]
    },
    {
      "cell_type": "code",
      "source": [
        "from sklearn.metrics import accuracy_score\n",
        "accuracy_score(y_test, y_pred)"
      ],
      "metadata": {
        "colab": {
          "base_uri": "https://localhost:8080/"
        },
        "id": "BcqT0qqs6LlD",
        "outputId": "5a1e09e7-1a00-4a90-e1f5-173316e73650"
      },
      "execution_count": null,
      "outputs": [
        {
          "output_type": "execute_result",
          "data": {
            "text/plain": [
              "0.9107696853301817"
            ]
          },
          "metadata": {},
          "execution_count": 66
        }
      ]
    },
    {
      "cell_type": "code",
      "source": [
        "#Normalised False give no of correctly clasify sample\n",
        "#Normalised True give percentage accuracy\n",
        "count = accuracy_score(y_test, y_pred, normalize=False)\n",
        "print('No of correctly classify sample ',count, ' out of ',len(y_test))"
      ],
      "metadata": {
        "colab": {
          "base_uri": "https://localhost:8080/"
        },
        "id": "JgSp3sJi6Soo",
        "outputId": "4fff7a67-4cfe-47ea-ac03-9a5ef1201630"
      },
      "execution_count": null,
      "outputs": [
        {
          "output_type": "stream",
          "name": "stdout",
          "text": [
            "No of correctly classify sample  6165  out of  6769\n"
          ]
        }
      ]
    },
    {
      "cell_type": "code",
      "source": [
        "from sklearn.metrics import classification_report\n",
        "print(classification_report(y_test, y_pred))"
      ],
      "metadata": {
        "colab": {
          "base_uri": "https://localhost:8080/"
        },
        "id": "WSFe8dju6WkB",
        "outputId": "2b513145-500d-439e-ef79-fb937e51f396"
      },
      "execution_count": null,
      "outputs": [
        {
          "output_type": "stream",
          "name": "stdout",
          "text": [
            "              precision    recall  f1-score   support\n",
            "\n",
            "           0       0.94      0.97      0.95      6040\n",
            "           1       0.62      0.45      0.52       729\n",
            "\n",
            "    accuracy                           0.91      6769\n",
            "   macro avg       0.78      0.71      0.74      6769\n",
            "weighted avg       0.90      0.91      0.90      6769\n",
            "\n"
          ]
        }
      ]
    },
    {
      "cell_type": "code",
      "source": [
        "from sklearn.metrics import confusion_matrix\n",
        "cm = confusion_matrix(y_test, y_pred)\n",
        "print(cm)"
      ],
      "metadata": {
        "colab": {
          "base_uri": "https://localhost:8080/"
        },
        "id": "c91AVH_m6bEv",
        "outputId": "5ae4ba49-1480-454e-818d-cccd202d745b"
      },
      "execution_count": null,
      "outputs": [
        {
          "output_type": "stream",
          "name": "stdout",
          "text": [
            "[[5836  204]\n",
            " [ 400  329]]\n"
          ]
        }
      ]
    },
    {
      "cell_type": "code",
      "source": [
        "def plot_confusion_matrix(cm, classes,\n",
        "                          normalize=False,\n",
        "                          title='Confusion matrix',\n",
        "                          cmap=plt.cm.Blues):\n",
        "    \"\"\"\n",
        "    This function prints and plots the confusion matrix.\n",
        "    Normalization can be applied by setting `normalize=True`.\n",
        "    \"\"\"\n",
        "    import itertools\n",
        "    if normalize:\n",
        "        cm = cm.astype('float') / cm.sum(axis=1)[:, np.newaxis]\n",
        "        print(\"Normalized confusion matrix\")\n",
        "    else:\n",
        "        print('Confusion matrix, without normalization')\n",
        "\n",
        "    #print(cm)\n",
        "\n",
        "    plt.imshow(cm, interpolation='nearest', cmap=cmap)\n",
        "    plt.title(title)\n",
        "    plt.colorbar()\n",
        "    tick_marks = np.arange(len(classes))\n",
        "    plt.xticks(tick_marks, classes, rotation=45)\n",
        "    plt.yticks(tick_marks, classes)\n",
        "\n",
        "    fmt = '.2f' if normalize else 'd'\n",
        "    thresh = cm.max() / 2.\n",
        "    for i, j in itertools.product(range(cm.shape[0]), range(cm.shape[1])):\n",
        "        plt.text(j, i, format(cm[i, j], fmt),\n",
        "                 horizontalalignment=\"center\",\n",
        "                 color=\"white\" if cm[i, j] > thresh else \"black\")\n",
        "\n",
        "    plt.ylabel('True label')\n",
        "    plt.xlabel('Predicted label')\n",
        "    plt.tight_layout()"
      ],
      "metadata": {
        "id": "8h1V99pI6cSB"
      },
      "execution_count": null,
      "outputs": []
    },
    {
      "cell_type": "code",
      "source": [
        "\n",
        "np.set_printoptions(precision=2)\n",
        "\n",
        "# Plot non-normalized confusion matrix\n",
        "plt.figure()\n",
        "plot_confusion_matrix(cm, classes=['Normal', 'Theft'],title='Confusion matrix CNN@80')"
      ],
      "metadata": {
        "colab": {
          "base_uri": "https://localhost:8080/",
          "height": 504
        },
        "id": "oOvJmIJS6l5g",
        "outputId": "cc385c41-f72e-4bf1-98c0-693930179f94"
      },
      "execution_count": null,
      "outputs": [
        {
          "output_type": "stream",
          "name": "stdout",
          "text": [
            "Confusion matrix, without normalization\n"
          ]
        },
        {
          "output_type": "display_data",
          "data": {
            "text/plain": [
              "<Figure size 640x480 with 2 Axes>"
            ],
            "image/png": "[encoded data removed]"
          },
          "metadata": {}
        }
      ]
    },
    {
      "cell_type": "code",
      "source": [
        "import sklearn.metrics as metrics\n",
        "# calculate the fpr and tpr for all thresholds of the classification\n",
        "probs = model.predict(x_test)\n",
        "preds = probs\n",
        "fpr, tpr, threshold = metrics.roc_curve(y_test, preds)\n",
        "roc_auc = metrics.auc(fpr, tpr)\n",
        "\n",
        "# method I: plt\n",
        "import matplotlib.pyplot as plt\n",
        "plt.title('Receiver Operating CharacSteristic (ROC) CNN@80')\n",
        "plt.plot(fpr, tpr, 'b', label = 'AUC = %0.4f' % roc_auc)\n",
        "plt.legend(loc = 'lower right')\n",
        "plt.plot([0, 1], [0, 1],'r--')\n",
        "plt.xlim([0, 1])\n",
        "plt.ylim([0, 1])\n",
        "plt.ylabel('True Positive Rate')\n",
        "plt.xlabel('False Positive Rate')\n",
        "plt.show()"
      ],
      "metadata": {
        "colab": {
          "base_uri": "https://localhost:8080/",
          "height": 489
        },
        "id": "6bCpL6bf6x0c",
        "outputId": "a5e6ad7c-efdd-40e0-dc7b-2ead03b0adc5"
      },
      "execution_count": null,
      "outputs": [
        {
          "output_type": "stream",
          "name": "stdout",
          "text": [
            "212/212 [==============================] - 1s 3ms/step\n"
          ]
        },
        {
          "output_type": "display_data",
          "data": {
            "text/plain": [
              "<Figure size 640x480 with 1 Axes>"
            ],
            "image/png": "[encoded data removed]"
          },
          "metadata": {}
        }
      ]
    },
    {
      "cell_type": "code",
      "source": [
        "print(model)"
      ],
      "metadata": {
        "colab": {
          "base_uri": "https://localhost:8080/"
        },
        "id": "P80y-bHS62uw",
        "outputId": "77f7c0a3-d2c2-419d-e2f3-8483f7860ccc"
      },
      "execution_count": null,
      "outputs": [
        {
          "output_type": "stream",
          "name": "stdout",
          "text": [
            "<keras.engine.sequential.Sequential object at 0x7f0896cdc940>\n"
          ]
        }
      ]
    },
    {
      "cell_type": "code",
      "source": [
        "import tensorflow as tf\n",
        "tf.keras.utils.plot_model(\n",
        "    model, to_file='model.png', show_shapes=False, show_layer_names=True,\n",
        "    rankdir='TB', expand_nested=False, dpi=96\n",
        ")\n"
      ],
      "metadata": {
        "colab": {
          "base_uri": "https://localhost:8080/",
          "height": 1000
        },
        "id": "9_iJv1Et68ra",
        "outputId": "5d7a6c4b-2253-433b-d5cc-1c471ea044cf"
      },
      "execution_count": null,
      "outputs": [
        {
          "output_type": "execute_result",
          "data": {
            "image/png": "[encoded data removed]",
            "text/plain": [
              "<IPython.core.display.Image object>"
            ]
          },
          "metadata": {},
          "execution_count": 74
        }
      ]
    },
    {
      "cell_type": "code",
      "source": [],
      "metadata": {
        "id": "WqPU55JD5SIv"
      },
      "execution_count": null,
      "outputs": []
    }
  ]
}