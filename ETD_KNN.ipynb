{
  "cells": [
    {
      "cell_type": "markdown",
      "metadata": {
        "id": "view-in-github",
        "colab_type": "text"
      },
      "source": [
        "<a href=\"https://colab.research.google.com/github/vaishnavi-1/Electricity-theft-detection-using-ML/blob/main/ETD_KNN.ipynb\" target=\"_parent\"><img src=\"https://colab.research.google.com/assets/colab-badge.svg\" alt=\"Open In Colab\"/></a>"
      ]
    },
    {
      "cell_type": "code",
      "execution_count": null,
      "metadata": {
        "colab": {
          "base_uri": "https://localhost:8080/"
        },
        "id": "JCFOZTwbzPVK",
        "outputId": "b4287224-3c92-40d9-edf9-692b23517aa3"
      },
      "outputs": [
        {
          "output_type": "stream",
          "name": "stdout",
          "text": [
            "Mounted at /content/drive\n"
          ]
        }
      ],
      "source": [
        "from google.colab import drive\n",
        "drive.mount('/content/drive')"
      ]
    },
    {
      "cell_type": "code",
      "execution_count": null,
      "metadata": {
        "id": "MyfO2qA3zcMn"
      },
      "outputs": [],
      "source": [
        "!ln -s /content/drive/My\\ Drive/ /mydrive"
      ]
    },
    {
      "cell_type": "markdown",
      "source": [
        "#Importing libraries\n"
      ],
      "metadata": {
        "id": "OOiQbBichXAG"
      }
    },
    {
      "cell_type": "code",
      "execution_count": null,
      "metadata": {
        "id": "OOvD1RwrzjR2"
      },
      "outputs": [],
      "source": [
        "import numpy as np\n",
        "import pandas as pd\n",
        "import matplotlib.pyplot as plt\n",
        "%matplotlib inline"
      ]
    },
    {
      "cell_type": "markdown",
      "source": [
        "#Read Data"
      ],
      "metadata": {
        "id": "v3nzLfVRhblG"
      }
    },
    {
      "cell_type": "code",
      "execution_count": null,
      "metadata": {
        "id": "rass6C1-znW-"
      },
      "outputs": [],
      "source": [
        "df = pd.read_csv('/content/drive/My Drive/data_final.csv')"
      ]
    },
    {
      "cell_type": "code",
      "execution_count": null,
      "metadata": {
        "id": "s6CaJl66znsd"
      },
      "outputs": [],
      "source": [
        "df.drop(['Unnamed: 0'],axis =1,inplace=True)"
      ]
    },
    {
      "cell_type": "code",
      "execution_count": null,
      "metadata": {
        "id": "8fP-NWBuzztm"
      },
      "outputs": [],
      "source": [
        "Y = df['OutPut']\n",
        "df.drop(['OutPut'],axis=1,inplace=True)"
      ]
    },
    {
      "cell_type": "code",
      "execution_count": null,
      "metadata": {
        "colab": {
          "base_uri": "https://localhost:8080/"
        },
        "id": "gNzyPzEEz0pG",
        "outputId": "a58ca67f-8a73-44ee-c1cd-cd9c649be7c2"
      },
      "outputs": [
        {
          "output_type": "execute_result",
          "data": {
            "text/plain": [
              "0        1\n",
              "1        1\n",
              "2        1\n",
              "3        1\n",
              "4        1\n",
              "        ..\n",
              "33836    0\n",
              "33837    0\n",
              "33838    0\n",
              "33839    0\n",
              "33840    0\n",
              "Name: OutPut, Length: 33841, dtype: int64"
            ]
          },
          "metadata": {},
          "execution_count": 7
        }
      ],
      "source": [
        "Y"
      ]
    },
    {
      "cell_type": "code",
      "execution_count": null,
      "metadata": {
        "colab": {
          "base_uri": "https://localhost:8080/",
          "height": 424
        },
        "id": "jdw2apeYz29-",
        "outputId": "303f9c28-12cf-4613-ca44-311a24bb29ba"
      },
      "outputs": [
        {
          "output_type": "execute_result",
          "data": {
            "text/plain": [
              "         0     1     2     3     4     5     6     7     8     9  ...    1024  \\\n",
              "0      0.0  0.00  0.00  0.00  0.00  0.00  0.00  0.00  0.00  0.00  ...  10.120   \n",
              "1      0.0  0.00  0.00  0.00  0.00  0.00  0.00  0.00  0.00  0.00  ...   0.000   \n",
              "2      0.0  0.00  0.00  0.00  0.00  0.00  0.00  0.00  0.00  0.00  ...   0.000   \n",
              "3      0.0  0.00  0.00  0.00  0.00  0.00  0.00  0.00  0.00  0.00  ...   6.500   \n",
              "4      2.9  3.42  3.81  4.58  3.56  4.25  3.86  3.53  3.41  0.85  ...  15.636   \n",
              "...    ...   ...   ...   ...   ...   ...   ...   ...   ...   ...  ...     ...   \n",
              "33836  0.0  0.00  0.00  0.00  0.00  0.00  0.00  0.00  0.00  0.00  ...   2.330   \n",
              "33837  0.0  0.00  0.00  0.00  0.00  0.00  0.00  0.00  0.00  0.00  ...   9.480   \n",
              "33838  0.0  0.00  0.00  0.00  0.00  0.00  0.00  0.00  0.00  0.00  ...   5.590   \n",
              "33839  0.0  0.00  0.00  0.00  0.00  0.00  0.00  0.00  0.00  0.00  ...   0.000   \n",
              "33840  0.0  0.00  0.00  0.00  0.00  0.00  0.00  0.00  0.00  0.00  ...   6.230   \n",
              "\n",
              "        1025   1026   1027    1028   1029    1030    1031    1032    1033  \n",
              "0       9.96  16.92   7.60  24.324  18.05  24.324  18.750  17.840  14.920  \n",
              "1       0.00   0.00   0.00   0.000   0.00   0.000   0.000   0.000   0.000  \n",
              "2       0.00   0.00   0.00   0.000   0.00   0.000   0.000   0.000   0.000  \n",
              "3       9.99  11.78  18.59  24.180  18.57  14.590  12.820  19.370  15.920  \n",
              "4      10.37  15.32  13.51  12.230  14.68  15.636  15.636  15.636  15.636  \n",
              "...      ...    ...    ...     ...    ...     ...     ...     ...     ...  \n",
              "33836   2.53   2.09   3.23   2.790   2.70   2.840   3.070   2.370   2.430  \n",
              "33837  17.20  10.86   9.01  13.240   8.52   7.710   7.360   6.960   7.880  \n",
              "33838   5.23   3.64   4.13   4.550   3.39   3.160   4.030   3.520   4.860  \n",
              "33839   0.00   0.00   0.00   0.000   0.00   0.000   0.000   0.000   0.000  \n",
              "33840   5.38   5.19   5.44   5.880   5.07   6.440   4.990   5.600   6.230  \n",
              "\n",
              "[33841 rows x 1034 columns]"
            ],
            "text/html": [
              "\n",
              "  <div id=\"df-b33e4541-3e41-4c5c-8d76-538d8d1c35c5\">\n",
              "    <div class=\"colab-df-container\">\n",
              "      <div>\n",
              "<style scoped>\n",
              "    .dataframe tbody tr th:only-of-type {\n",
              "        vertical-align: middle;\n",
              "    }\n",
              "\n",
              "    .dataframe tbody tr th {\n",
              "        vertical-align: top;\n",
              "    }\n",
              "\n",
              "    .dataframe thead th {\n",
              "        text-align: right;\n",
              "    }\n",
              "</style>\n",
              "<table border=\"1\" class=\"dataframe\">\n",
              "  <thead>\n",
              "    <tr style=\"text-align: right;\">\n",
              "      <th></th>\n",
              "      <th>0</th>\n",
              "      <th>1</th>\n",
              "      <th>2</th>\n",
              "      <th>3</th>\n",
              "      <th>4</th>\n",
              "      <th>5</th>\n",
              "      <th>6</th>\n",
              "      <th>7</th>\n",
              "      <th>8</th>\n",
              "      <th>9</th>\n",
              "      <th>...</th>\n",
              "      <th>1024</th>\n",
              "      <th>1025</th>\n",
              "      <th>1026</th>\n",
              "      <th>1027</th>\n",
              "      <th>1028</th>\n",
              "      <th>1029</th>\n",
              "      <th>1030</th>\n",
              "      <th>1031</th>\n",
              "      <th>1032</th>\n",
              "      <th>1033</th>\n",
              "    </tr>\n",
              "  </thead>\n",
              "  <tbody>\n",
              "    <tr>\n",
              "      <th>0</th>\n",
              "      <td>0.0</td>\n",
              "      <td>0.00</td>\n",
              "      <td>0.00</td>\n",
              "      <td>0.00</td>\n",
              "      <td>0.00</td>\n",
              "      <td>0.00</td>\n",
              "      <td>0.00</td>\n",
              "      <td>0.00</td>\n",
              "      <td>0.00</td>\n",
              "      <td>0.00</td>\n",
              "      <td>...</td>\n",
              "      <td>10.120</td>\n",
              "      <td>9.96</td>\n",
              "      <td>16.92</td>\n",
              "      <td>7.60</td>\n",
              "      <td>24.324</td>\n",
              "      <td>18.05</td>\n",
              "      <td>24.324</td>\n",
              "      <td>18.750</td>\n",
              "      <td>17.840</td>\n",
              "      <td>14.920</td>\n",
              "    </tr>\n",
              "    <tr>\n",
              "      <th>1</th>\n",
              "      <td>0.0</td>\n",
              "      <td>0.00</td>\n",
              "      <td>0.00</td>\n",
              "      <td>0.00</td>\n",
              "      <td>0.00</td>\n",
              "      <td>0.00</td>\n",
              "      <td>0.00</td>\n",
              "      <td>0.00</td>\n",
              "      <td>0.00</td>\n",
              "      <td>0.00</td>\n",
              "      <td>...</td>\n",
              "      <td>0.000</td>\n",
              "      <td>0.00</td>\n",
              "      <td>0.00</td>\n",
              "      <td>0.00</td>\n",
              "      <td>0.000</td>\n",
              "      <td>0.00</td>\n",
              "      <td>0.000</td>\n",
              "      <td>0.000</td>\n",
              "      <td>0.000</td>\n",
              "      <td>0.000</td>\n",
              "    </tr>\n",
              "    <tr>\n",
              "      <th>2</th>\n",
              "      <td>0.0</td>\n",
              "      <td>0.00</td>\n",
              "      <td>0.00</td>\n",
              "      <td>0.00</td>\n",
              "      <td>0.00</td>\n",
              "      <td>0.00</td>\n",
              "      <td>0.00</td>\n",
              "      <td>0.00</td>\n",
              "      <td>0.00</td>\n",
              "      <td>0.00</td>\n",
              "      <td>...</td>\n",
              "      <td>0.000</td>\n",
              "      <td>0.00</td>\n",
              "      <td>0.00</td>\n",
              "      <td>0.00</td>\n",
              "      <td>0.000</td>\n",
              "      <td>0.00</td>\n",
              "      <td>0.000</td>\n",
              "      <td>0.000</td>\n",
              "      <td>0.000</td>\n",
              "      <td>0.000</td>\n",
              "    </tr>\n",
              "    <tr>\n",
              "      <th>3</th>\n",
              "      <td>0.0</td>\n",
              "      <td>0.00</td>\n",
              "      <td>0.00</td>\n",
              "      <td>0.00</td>\n",
              "      <td>0.00</td>\n",
              "      <td>0.00</td>\n",
              "      <td>0.00</td>\n",
              "      <td>0.00</td>\n",
              "      <td>0.00</td>\n",
              "      <td>0.00</td>\n",
              "      <td>...</td>\n",
              "      <td>6.500</td>\n",
              "      <td>9.99</td>\n",
              "      <td>11.78</td>\n",
              "      <td>18.59</td>\n",
              "      <td>24.180</td>\n",
              "      <td>18.57</td>\n",
              "      <td>14.590</td>\n",
              "      <td>12.820</td>\n",
              "      <td>19.370</td>\n",
              "      <td>15.920</td>\n",
              "    </tr>\n",
              "    <tr>\n",
              "      <th>4</th>\n",
              "      <td>2.9</td>\n",
              "      <td>3.42</td>\n",
              "      <td>3.81</td>\n",
              "      <td>4.58</td>\n",
              "      <td>3.56</td>\n",
              "      <td>4.25</td>\n",
              "      <td>3.86</td>\n",
              "      <td>3.53</td>\n",
              "      <td>3.41</td>\n",
              "      <td>0.85</td>\n",
              "      <td>...</td>\n",
              "      <td>15.636</td>\n",
              "      <td>10.37</td>\n",
              "      <td>15.32</td>\n",
              "      <td>13.51</td>\n",
              "      <td>12.230</td>\n",
              "      <td>14.68</td>\n",
              "      <td>15.636</td>\n",
              "      <td>15.636</td>\n",
              "      <td>15.636</td>\n",
              "      <td>15.636</td>\n",
              "    </tr>\n",
              "    <tr>\n",
              "      <th>...</th>\n",
              "      <td>...</td>\n",
              "      <td>...</td>\n",
              "      <td>...</td>\n",
              "      <td>...</td>\n",
              "      <td>...</td>\n",
              "      <td>...</td>\n",
              "      <td>...</td>\n",
              "      <td>...</td>\n",
              "      <td>...</td>\n",
              "      <td>...</td>\n",
              "      <td>...</td>\n",
              "      <td>...</td>\n",
              "      <td>...</td>\n",
              "      <td>...</td>\n",
              "      <td>...</td>\n",
              "      <td>...</td>\n",
              "      <td>...</td>\n",
              "      <td>...</td>\n",
              "      <td>...</td>\n",
              "      <td>...</td>\n",
              "      <td>...</td>\n",
              "    </tr>\n",
              "    <tr>\n",
              "      <th>33836</th>\n",
              "      <td>0.0</td>\n",
              "      <td>0.00</td>\n",
              "      <td>0.00</td>\n",
              "      <td>0.00</td>\n",
              "      <td>0.00</td>\n",
              "      <td>0.00</td>\n",
              "      <td>0.00</td>\n",
              "      <td>0.00</td>\n",
              "      <td>0.00</td>\n",
              "      <td>0.00</td>\n",
              "      <td>...</td>\n",
              "      <td>2.330</td>\n",
              "      <td>2.53</td>\n",
              "      <td>2.09</td>\n",
              "      <td>3.23</td>\n",
              "      <td>2.790</td>\n",
              "      <td>2.70</td>\n",
              "      <td>2.840</td>\n",
              "      <td>3.070</td>\n",
              "      <td>2.370</td>\n",
              "      <td>2.430</td>\n",
              "    </tr>\n",
              "    <tr>\n",
              "      <th>33837</th>\n",
              "      <td>0.0</td>\n",
              "      <td>0.00</td>\n",
              "      <td>0.00</td>\n",
              "      <td>0.00</td>\n",
              "      <td>0.00</td>\n",
              "      <td>0.00</td>\n",
              "      <td>0.00</td>\n",
              "      <td>0.00</td>\n",
              "      <td>0.00</td>\n",
              "      <td>0.00</td>\n",
              "      <td>...</td>\n",
              "      <td>9.480</td>\n",
              "      <td>17.20</td>\n",
              "      <td>10.86</td>\n",
              "      <td>9.01</td>\n",
              "      <td>13.240</td>\n",
              "      <td>8.52</td>\n",
              "      <td>7.710</td>\n",
              "      <td>7.360</td>\n",
              "      <td>6.960</td>\n",
              "      <td>7.880</td>\n",
              "    </tr>\n",
              "    <tr>\n",
              "      <th>33838</th>\n",
              "      <td>0.0</td>\n",
              "      <td>0.00</td>\n",
              "      <td>0.00</td>\n",
              "      <td>0.00</td>\n",
              "      <td>0.00</td>\n",
              "      <td>0.00</td>\n",
              "      <td>0.00</td>\n",
              "      <td>0.00</td>\n",
              "      <td>0.00</td>\n",
              "      <td>0.00</td>\n",
              "      <td>...</td>\n",
              "      <td>5.590</td>\n",
              "      <td>5.23</td>\n",
              "      <td>3.64</td>\n",
              "      <td>4.13</td>\n",
              "      <td>4.550</td>\n",
              "      <td>3.39</td>\n",
              "      <td>3.160</td>\n",
              "      <td>4.030</td>\n",
              "      <td>3.520</td>\n",
              "      <td>4.860</td>\n",
              "    </tr>\n",
              "    <tr>\n",
              "      <th>33839</th>\n",
              "      <td>0.0</td>\n",
              "      <td>0.00</td>\n",
              "      <td>0.00</td>\n",
              "      <td>0.00</td>\n",
              "      <td>0.00</td>\n",
              "      <td>0.00</td>\n",
              "      <td>0.00</td>\n",
              "      <td>0.00</td>\n",
              "      <td>0.00</td>\n",
              "      <td>0.00</td>\n",
              "      <td>...</td>\n",
              "      <td>0.000</td>\n",
              "      <td>0.00</td>\n",
              "      <td>0.00</td>\n",
              "      <td>0.00</td>\n",
              "      <td>0.000</td>\n",
              "      <td>0.00</td>\n",
              "      <td>0.000</td>\n",
              "      <td>0.000</td>\n",
              "      <td>0.000</td>\n",
              "      <td>0.000</td>\n",
              "    </tr>\n",
              "    <tr>\n",
              "      <th>33840</th>\n",
              "      <td>0.0</td>\n",
              "      <td>0.00</td>\n",
              "      <td>0.00</td>\n",
              "      <td>0.00</td>\n",
              "      <td>0.00</td>\n",
              "      <td>0.00</td>\n",
              "      <td>0.00</td>\n",
              "      <td>0.00</td>\n",
              "      <td>0.00</td>\n",
              "      <td>0.00</td>\n",
              "      <td>...</td>\n",
              "      <td>6.230</td>\n",
              "      <td>5.38</td>\n",
              "      <td>5.19</td>\n",
              "      <td>5.44</td>\n",
              "      <td>5.880</td>\n",
              "      <td>5.07</td>\n",
              "      <td>6.440</td>\n",
              "      <td>4.990</td>\n",
              "      <td>5.600</td>\n",
              "      <td>6.230</td>\n",
              "    </tr>\n",
              "  </tbody>\n",
              "</table>\n",
              "<p>33841 rows × 1034 columns</p>\n",
              "</div>\n",
              "      <button class=\"colab-df-convert\" onclick=\"convertToInteractive('df-b33e4541-3e41-4c5c-8d76-538d8d1c35c5')\"\n",
              "              title=\"Convert this dataframe to an interactive table.\"\n",
              "              style=\"display:none;\">\n",
              "        \n",
              "  <svg xmlns=\"http://www.w3.org/2000/svg\" height=\"24px\"viewBox=\"0 0 24 24\"\n",
              "       width=\"24px\">\n",
              "    <path d=\"M0 0h24v24H0V0z\" fill=\"none\"/>\n",
              "    <path d=\"M18.56 5.44l.94 2.06.94-2.06 2.06-.94-2.06-.94-.94-2.06-.94 2.06-2.06.94zm-11 1L8.5 8.5l.94-2.06 2.06-.94-2.06-.94L8.5 2.5l-.94 2.06-2.06.94zm10 10l.94 2.06.94-2.06 2.06-.94-2.06-.94-.94-2.06-.94 2.06-2.06.94z\"/><path d=\"M17.41 7.96l-1.37-1.37c-.4-.4-.92-.59-1.43-.59-.52 0-1.04.2-1.43.59L10.3 9.45l-7.72 7.72c-.78.78-.78 2.05 0 2.83L4 21.41c.39.39.9.59 1.41.59.51 0 1.02-.2 1.41-.59l7.78-7.78 2.81-2.81c.8-.78.8-2.07 0-2.86zM5.41 20L4 18.59l7.72-7.72 1.47 1.35L5.41 20z\"/>\n",
              "  </svg>\n",
              "      </button>\n",
              "      \n",
              "  <style>\n",
              "    .colab-df-container {\n",
              "      display:flex;\n",
              "      flex-wrap:wrap;\n",
              "      gap: 12px;\n",
              "    }\n",
              "\n",
              "    .colab-df-convert {\n",
              "      background-color: #E8F0FE;\n",
              "      border: none;\n",
              "      border-radius: 50%;\n",
              "      cursor: pointer;\n",
              "      display: none;\n",
              "      fill: #1967D2;\n",
              "      height: 32px;\n",
              "      padding: 0 0 0 0;\n",
              "      width: 32px;\n",
              "    }\n",
              "\n",
              "    .colab-df-convert:hover {\n",
              "      background-color: #E2EBFA;\n",
              "      box-shadow: 0px 1px 2px rgba(60, 64, 67, 0.3), 0px 1px 3px 1px rgba(60, 64, 67, 0.15);\n",
              "      fill: #174EA6;\n",
              "    }\n",
              "\n",
              "    [theme=dark] .colab-df-convert {\n",
              "      background-color: #3B4455;\n",
              "      fill: #D2E3FC;\n",
              "    }\n",
              "\n",
              "    [theme=dark] .colab-df-convert:hover {\n",
              "      background-color: #434B5C;\n",
              "      box-shadow: 0px 1px 3px 1px rgba(0, 0, 0, 0.15);\n",
              "      filter: drop-shadow(0px 1px 2px rgba(0, 0, 0, 0.3));\n",
              "      fill: #FFFFFF;\n",
              "    }\n",
              "  </style>\n",
              "\n",
              "      <script>\n",
              "        const buttonEl =\n",
              "          document.querySelector('#df-b33e4541-3e41-4c5c-8d76-538d8d1c35c5 button.colab-df-convert');\n",
              "        buttonEl.style.display =\n",
              "          google.colab.kernel.accessAllowed ? 'block' : 'none';\n",
              "\n",
              "        async function convertToInteractive(key) {\n",
              "          const element = document.querySelector('#df-b33e4541-3e41-4c5c-8d76-538d8d1c35c5');\n",
              "          const dataTable =\n",
              "            await google.colab.kernel.invokeFunction('convertToInteractive',\n",
              "                                                     [key], {});\n",
              "          if (!dataTable) return;\n",
              "\n",
              "          const docLinkHtml = 'Like what you see? Visit the ' +\n",
              "            '<a target=\"_blank\" href=https://colab.research.google.com/notebooks/data_table.ipynb>data table notebook</a>'\n",
              "            + ' to learn more about interactive tables.';\n",
              "          element.innerHTML = '';\n",
              "          dataTable['output_type'] = 'display_data';\n",
              "          await google.colab.output.renderOutput(dataTable, element);\n",
              "          const docLink = document.createElement('div');\n",
              "          docLink.innerHTML = docLinkHtml;\n",
              "          element.appendChild(docLink);\n",
              "        }\n",
              "      </script>\n",
              "    </div>\n",
              "  </div>\n",
              "  "
            ]
          },
          "metadata": {},
          "execution_count": 8
        }
      ],
      "source": [
        "df"
      ]
    },
    {
      "cell_type": "code",
      "execution_count": null,
      "metadata": {
        "id": "l1KYiEGWz8_m"
      },
      "outputs": [],
      "source": [
        "x = np.array(df)\n",
        "y = np.array(Y)"
      ]
    },
    {
      "cell_type": "code",
      "execution_count": null,
      "metadata": {
        "colab": {
          "base_uri": "https://localhost:8080/"
        },
        "id": "AABn_gp_z_gG",
        "outputId": "0696487b-b2ba-4e47-fc78-cdd381ab9b48"
      },
      "outputs": [
        {
          "output_type": "stream",
          "name": "stdout",
          "text": [
            "(33841, 1034)\n",
            "(33841,)\n"
          ]
        }
      ],
      "source": [
        "print(x.shape)\n",
        "print(y.shape)"
      ]
    },
    {
      "cell_type": "markdown",
      "source": [
        "#Split the data into training and testing set"
      ],
      "metadata": {
        "id": "geuf6KoXhkCW"
      }
    },
    {
      "cell_type": "code",
      "execution_count": null,
      "metadata": {
        "id": "dxIebIwq0BA-"
      },
      "outputs": [],
      "source": [
        "from sklearn.model_selection import train_test_split\n",
        "x_train, x_test, y_train, y_test = train_test_split(x, y, test_size=0.20)"
      ]
    },
    {
      "cell_type": "code",
      "execution_count": null,
      "metadata": {
        "colab": {
          "base_uri": "https://localhost:8080/"
        },
        "id": "BiS8ETP30HFu",
        "outputId": "a58b6feb-3fc2-46c6-8841-7f01b736eeb6"
      },
      "outputs": [
        {
          "output_type": "stream",
          "name": "stdout",
          "text": [
            "(27072, 1034)\n",
            "(27072,)\n",
            "(6769, 1034)\n",
            "(6769,)\n"
          ]
        }
      ],
      "source": [
        "print(x_train.shape)\n",
        "print(y_train.shape)\n",
        "print(x_test.shape)\n",
        "print(y_test.shape)"
      ]
    },
    {
      "cell_type": "code",
      "execution_count": null,
      "metadata": {
        "id": "27J2apYA0IPI"
      },
      "outputs": [],
      "source": [
        "from sklearn.neighbors import KNeighborsClassifier"
      ]
    },
    {
      "cell_type": "code",
      "execution_count": null,
      "metadata": {
        "colab": {
          "base_uri": "https://localhost:8080/"
        },
        "id": "_sbGqce00UE-",
        "outputId": "b9d902f6-9957-4f16-9af0-19f8f627c10e"
      },
      "outputs": [
        {
          "output_type": "execute_result",
          "data": {
            "text/plain": [
              "KNeighborsClassifier(n_neighbors=3)"
            ]
          },
          "metadata": {},
          "execution_count": 14
        }
      ],
      "source": [
        "clf = KNeighborsClassifier(n_neighbors=3)\n",
        "\n",
        "clf.fit(x_train, y_train)"
      ]
    },
    {
      "cell_type": "code",
      "execution_count": null,
      "metadata": {
        "colab": {
          "base_uri": "https://localhost:8080/"
        },
        "id": "9UoDFhT90W21",
        "outputId": "2803aa30-f624-4c2d-b2a5-6fcc3046f00f"
      },
      "outputs": [
        {
          "output_type": "execute_result",
          "data": {
            "text/plain": [
              "{'algorithm': 'auto',\n",
              " 'leaf_size': 30,\n",
              " 'metric': 'minkowski',\n",
              " 'metric_params': None,\n",
              " 'n_jobs': None,\n",
              " 'n_neighbors': 3,\n",
              " 'p': 2,\n",
              " 'weights': 'uniform'}"
            ]
          },
          "metadata": {},
          "execution_count": 15
        }
      ],
      "source": [
        "clf.get_params()"
      ]
    },
    {
      "cell_type": "code",
      "execution_count": null,
      "metadata": {
        "colab": {
          "base_uri": "https://localhost:8080/"
        },
        "id": "TqoT_PqsGIeU",
        "outputId": "e389c15b-fb4c-4c58-9aad-282a0a91b8be"
      },
      "outputs": [
        {
          "output_type": "execute_result",
          "data": {
            "text/plain": [
              "0.907224109912838"
            ]
          },
          "metadata": {},
          "execution_count": 16
        }
      ],
      "source": [
        "clf.score(x_test,y_test)"
      ]
    },
    {
      "cell_type": "code",
      "execution_count": null,
      "metadata": {
        "id": "PLyveD8b0XVV"
      },
      "outputs": [],
      "source": [
        "y_pred = clf.predict(x_test)"
      ]
    },
    {
      "cell_type": "code",
      "execution_count": null,
      "metadata": {
        "colab": {
          "base_uri": "https://localhost:8080/"
        },
        "id": "ZqZpmP3u037U",
        "outputId": "c5d0b2e0-7bbb-4346-a324-20b1d8d8343c"
      },
      "outputs": [
        {
          "output_type": "stream",
          "name": "stdout",
          "text": [
            "              precision    recall  f1-score   support\n",
            "\n",
            "           0       0.92      0.98      0.95      6060\n",
            "           1       0.61      0.32      0.42       709\n",
            "\n",
            "    accuracy                           0.91      6769\n",
            "   macro avg       0.77      0.65      0.69      6769\n",
            "weighted avg       0.89      0.91      0.89      6769\n",
            "\n"
          ]
        }
      ],
      "source": [
        "from sklearn.metrics import classification_report\n",
        "print(classification_report(y_test, y_pred))"
      ]
    },
    {
      "cell_type": "code",
      "execution_count": null,
      "metadata": {
        "colab": {
          "base_uri": "https://localhost:8080/"
        },
        "id": "uBDEDfC5092d",
        "outputId": "2714bd37-01ac-48ff-cfcf-387b01d065e5"
      },
      "outputs": [
        {
          "output_type": "execute_result",
          "data": {
            "text/plain": [
              "0.907224109912838"
            ]
          },
          "metadata": {},
          "execution_count": 19
        }
      ],
      "source": [
        "from sklearn.metrics import accuracy_score\n",
        "accuracy_score(y_test, y_pred)"
      ]
    },
    {
      "cell_type": "code",
      "execution_count": null,
      "metadata": {
        "id": "EN79On3U1fBv"
      },
      "outputs": [],
      "source": [
        "#Normalised False give no of correctly clasify sample\n",
        "#Normalised True give percentage accuracy\n",
        "count = accuracy_score(y_test, y_pred, normalize=False)"
      ]
    },
    {
      "cell_type": "code",
      "execution_count": null,
      "metadata": {
        "colab": {
          "base_uri": "https://localhost:8080/"
        },
        "id": "QNzoDfws1hiW",
        "outputId": "9b222107-65d0-4497-a638-b0f74bb4f93a"
      },
      "outputs": [
        {
          "output_type": "stream",
          "name": "stdout",
          "text": [
            "No of correctly classify sample  6141  out of  6769\n"
          ]
        }
      ],
      "source": [
        "print('No of correctly classify sample ',count, ' out of ',len(y_test))\n"
      ]
    },
    {
      "cell_type": "code",
      "execution_count": null,
      "metadata": {
        "colab": {
          "base_uri": "https://localhost:8080/",
          "height": 334
        },
        "id": "su5TaKs51l0N",
        "outputId": "cc1535ee-dff7-4110-a28d-585b3bd3d4a0"
      },
      "outputs": [
        {
          "output_type": "stream",
          "name": "stderr",
          "text": [
            "/usr/local/lib/python3.8/dist-packages/sklearn/utils/deprecation.py:87: FutureWarning: Function plot_confusion_matrix is deprecated; Function `plot_confusion_matrix` is deprecated in 1.0 and will be removed in 1.2. Use one of the class methods: ConfusionMatrixDisplay.from_predictions or ConfusionMatrixDisplay.from_estimator.\n",
            "  warnings.warn(msg, category=FutureWarning)\n"
          ]
        },
        {
          "output_type": "display_data",
          "data": {
            "text/plain": [
              "<Figure size 432x288 with 2 Axes>"
            ],
            "image/png": "[encoded data removed]"
          },
          "metadata": {
            "needs_background": "light"
          }
        }
      ],
      "source": [
        "from sklearn.metrics import plot_confusion_matrix\n",
        "plot_confusion_matrix(clf, x_test, y_test)\n",
        "plt.show()"
      ]
    },
    {
      "cell_type": "code",
      "source": [
        "from sklearn.model_selection import cross_val_score\n",
        "\n",
        "accuracy_rate = []\n",
        "\n",
        "# Will take some time\n",
        "for i in range(1,40):\n",
        "\n",
        "    knn = KNeighborsClassifier(n_neighbors=i)\n",
        "    score=cross_val_score(knn,x,y,cv=10)\n",
        "    accuracy_rate.append(score.mean())"
      ],
      "metadata": {
        "id": "jOdePoQFY-8H"
      },
      "execution_count": null,
      "outputs": []
    },
    {
      "cell_type": "code",
      "source": [
        "plt.figure(figsize=(10,6))\n",
        "\n",
        "plt.plot(range(1,40),accuracy_rate,color='blue', linestyle='dashed', marker='o',\n",
        "         markerfacecolor='red', markersize=10)\n",
        "plt.title('Accuracy Rate vs. K Value')\n",
        "plt.xlabel('K')\n",
        "plt.ylabel('Accuracy Rate')"
      ],
      "metadata": {
        "colab": {
          "base_uri": "https://localhost:8080/",
          "height": 421
        },
        "id": "4vvm5FUmZQQx",
        "outputId": "0a2f56cd-4bb4-4781-ac73-104398216ed4"
      },
      "execution_count": null,
      "outputs": [
        {
          "output_type": "execute_result",
          "data": {
            "text/plain": [
              "Text(0, 0.5, 'Accuracy Rate')"
            ]
          },
          "metadata": {},
          "execution_count": 24
        },
        {
          "output_type": "display_data",
          "data": {
            "text/plain": [
              "<Figure size 720x432 with 1 Axes>"
            ],
            "image/png": "[encoded data removed]"
          },
          "metadata": {
            "needs_background": "light"
          }
        }
      ]
    },
    {
      "cell_type": "code",
      "source": [
        "clf = KNeighborsClassifier(n_neighbors=6)\n",
        "\n",
        "clf.fit(x_train, y_train)"
      ],
      "metadata": {
        "colab": {
          "base_uri": "https://localhost:8080/"
        },
        "id": "s18CcArI3GqR",
        "outputId": "5726c6ce-90f3-40fd-df7d-e989e6fb29ba"
      },
      "execution_count": null,
      "outputs": [
        {
          "output_type": "execute_result",
          "data": {
            "text/plain": [
              "KNeighborsClassifier(n_neighbors=6)"
            ]
          },
          "metadata": {},
          "execution_count": 31
        }
      ]
    },
    {
      "cell_type": "code",
      "source": [
        "clf.score(x_test,y_test)"
      ],
      "metadata": {
        "colab": {
          "base_uri": "https://localhost:8080/"
        },
        "id": "80Q5fgKE3aAq",
        "outputId": "0d124b44-fed9-4da1-bbc2-d1a21b25b86b"
      },
      "execution_count": null,
      "outputs": [
        {
          "output_type": "execute_result",
          "data": {
            "text/plain": [
              "0.9001329590781504"
            ]
          },
          "metadata": {},
          "execution_count": 32
        }
      ]
    },
    {
      "cell_type": "code",
      "source": [
        "\n",
        "grid_predictions = clf.predict(x_test)\n",
        "\n",
        "# print classification report\n",
        "print(classification_report(y_test, grid_predictions))"
      ],
      "metadata": {
        "colab": {
          "base_uri": "https://localhost:8080/"
        },
        "id": "dJW7xeeQouDu",
        "outputId": "a6d523cf-ff63-4852-8acf-a6812b3a5542"
      },
      "execution_count": null,
      "outputs": [
        {
          "output_type": "stream",
          "name": "stdout",
          "text": [
            "              precision    recall  f1-score   support\n",
            "\n",
            "           0       0.91      0.99      0.95      6060\n",
            "           1       0.63      0.12      0.20       709\n",
            "\n",
            "    accuracy                           0.90      6769\n",
            "   macro avg       0.77      0.55      0.57      6769\n",
            "weighted avg       0.88      0.90      0.87      6769\n",
            "\n"
          ]
        }
      ]
    },
    {
      "cell_type": "code",
      "source": [
        "  # Plot non-normalized confusion matrix\n",
        "titles_options = [(\"KNN Confusion matrix @80\", None),\n",
        "                  (\"Normalized confusion matrix\", 'true')]\n",
        "for title, normalize in titles_options:\n",
        "    disp = plot_confusion_matrix(clf, x_test, y_test,\n",
        "                                 display_labels=['Normal','Theft'],\n",
        "                                 cmap=plt.cm.Blues,\n",
        "                                 normalize=normalize)\n",
        "    disp.ax_.set_title(title)\n",
        "\n",
        "    print(title)\n",
        "    print(disp.confusion_matrix)\n",
        "\n",
        "plt.show()"
      ],
      "metadata": {
        "colab": {
          "base_uri": "https://localhost:8080/",
          "height": 767
        },
        "id": "8vcNKXMGpN3R",
        "outputId": "2eac6557-4309-4d7a-d37f-0f9d7a1a1431"
      },
      "execution_count": null,
      "outputs": [
        {
          "output_type": "stream",
          "name": "stderr",
          "text": [
            "/usr/local/lib/python3.8/dist-packages/sklearn/utils/deprecation.py:87: FutureWarning: Function plot_confusion_matrix is deprecated; Function `plot_confusion_matrix` is deprecated in 1.0 and will be removed in 1.2. Use one of the class methods: ConfusionMatrixDisplay.from_predictions or ConfusionMatrixDisplay.from_estimator.\n",
            "  warnings.warn(msg, category=FutureWarning)\n"
          ]
        },
        {
          "output_type": "stream",
          "name": "stdout",
          "text": [
            "KNN Confusion matrix @80\n",
            "[[6011   49]\n",
            " [ 627   82]]\n"
          ]
        },
        {
          "output_type": "stream",
          "name": "stderr",
          "text": [
            "/usr/local/lib/python3.8/dist-packages/sklearn/utils/deprecation.py:87: FutureWarning: Function plot_confusion_matrix is deprecated; Function `plot_confusion_matrix` is deprecated in 1.0 and will be removed in 1.2. Use one of the class methods: ConfusionMatrixDisplay.from_predictions or ConfusionMatrixDisplay.from_estimator.\n",
            "  warnings.warn(msg, category=FutureWarning)\n"
          ]
        },
        {
          "output_type": "stream",
          "name": "stdout",
          "text": [
            "Normalized confusion matrix\n",
            "[[0.99191419 0.00808581]\n",
            " [0.88434415 0.11565585]]\n"
          ]
        },
        {
          "output_type": "display_data",
          "data": {
            "text/plain": [
              "<Figure size 432x288 with 2 Axes>"
            ],
            "image/png": "[encoded data removed]"
          },
          "metadata": {
            "needs_background": "light"
          }
        },
        {
          "output_type": "display_data",
          "data": {
            "text/plain": [
              "<Figure size 432x288 with 2 Axes>"
            ],
            "image/png": "[encoded data removed]"
          },
          "metadata": {
            "needs_background": "light"
          }
        }
      ]
    },
    {
      "cell_type": "code",
      "source": [
        "import sklearn.metrics as metrics\n",
        "# calculate the fpr and tpr for all thresholds of the classification\n",
        "probs = clf.predict_proba(x_test)\n",
        "preds = probs[:,1]\n",
        "fpr, tpr, threshold = metrics.roc_curve(y_test, preds)\n",
        "roc_auc = metrics.auc(fpr, tpr)\n",
        "\n",
        "# method I: plt\n",
        "import matplotlib.pyplot as plt\n",
        "plt.title('Receiver Operating CharacSteristic (ROC) KNN @80')\n",
        "plt.plot(fpr, tpr, 'b', label = 'AUC = %0.4f' % roc_auc)\n",
        "plt.legend(loc = 'lower right')\n",
        "plt.plot([0, 1], [0, 1],'r--')\n",
        "plt.xlim([0, 1])\n",
        "plt.ylim([0, 1])\n",
        "plt.ylabel('True Positive Rate')\n",
        "plt.xlabel('False Positive Rate')\n",
        "plt.show()"
      ],
      "metadata": {
        "colab": {
          "base_uri": "https://localhost:8080/",
          "height": 295
        },
        "id": "SFHW-e-vpV3v",
        "outputId": "29c9800c-0cd4-470c-db7e-49d62cc4568d"
      },
      "execution_count": null,
      "outputs": [
        {
          "output_type": "display_data",
          "data": {
            "text/plain": [
              "<Figure size 432x288 with 1 Axes>"
            ],
            "image/png": "[encoded data removed]"
          },
          "metadata": {
            "needs_background": "light"
          }
        }
      ]
    },
    {
      "cell_type": "code",
      "source": [
        "import matplotlib.pyplot as plt\n",
        "import numpy as np\n",
        "\n",
        "x = fpr # false_positive_rate\n",
        "y = tpr # true_positive_rate\n",
        "\n",
        "# This is the ROC curve\n",
        "plt.plot(x,y)\n",
        "plt.show()\n",
        "\n",
        "# This is the AUC\n",
        "auc = np.trapz(y,x)"
      ],
      "metadata": {
        "colab": {
          "base_uri": "https://localhost:8080/",
          "height": 265
        },
        "id": "27E71Eb5pW__",
        "outputId": "bf44292a-7c22-4db4-f858-af2fbdfc3cfa"
      },
      "execution_count": null,
      "outputs": [
        {
          "output_type": "display_data",
          "data": {
            "text/plain": [
              "<Figure size 432x288 with 1 Axes>"
            ],
            "image/png": "[encoded data removed]"
          },
          "metadata": {
            "needs_background": "light"
          }
        }
      ]
    },
    {
      "cell_type": "code",
      "source": [],
      "metadata": {
        "id": "bxcurjmbpr2n"
      },
      "execution_count": null,
      "outputs": []
    }
  ],
  "metadata": {
    "colab": {
      "provenance": [],
      "authorship_tag": "ABX9TyPrGDxxxqR7FjpQK5Oppt+K",
      "include_colab_link": true
    },
    "kernelspec": {
      "display_name": "Python 3",
      "name": "python3"
    },
    "language_info": {
      "name": "python"
    }
  },
  "nbformat": 4,
  "nbformat_minor": 0
}